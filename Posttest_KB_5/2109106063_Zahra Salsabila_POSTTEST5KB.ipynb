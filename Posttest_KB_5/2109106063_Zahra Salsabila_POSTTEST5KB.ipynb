{
 "cells": [
  {
   "cell_type": "markdown",
   "id": "32165c55-7157-470f-a877-9c5c1f34dc35",
   "metadata": {},
   "source": [
    "# POSTTEST 5 KECERDASAN BUATAN\n",
    "---\n",
    "(*2109106063* - Zahra Salsabila - B121)"
   ]
  },
  {
   "cell_type": "markdown",
   "id": "a8b2e02e-434b-42da-9428-7abfc2dbf5d7",
   "metadata": {},
   "source": [
    "## Melihat Data"
   ]
  },
  {
   "cell_type": "code",
   "execution_count": 1,
   "id": "972777be-631b-4081-9341-e9253dcbd1c0",
   "metadata": {},
   "outputs": [],
   "source": [
    "import pandas as pd"
   ]
  },
  {
   "cell_type": "code",
   "execution_count": 2,
   "id": "146784fa-96f4-45cf-bfc5-297830199291",
   "metadata": {},
   "outputs": [
    {
     "data": {
      "text/html": [
       "<div>\n",
       "<style scoped>\n",
       "    .dataframe tbody tr th:only-of-type {\n",
       "        vertical-align: middle;\n",
       "    }\n",
       "\n",
       "    .dataframe tbody tr th {\n",
       "        vertical-align: top;\n",
       "    }\n",
       "\n",
       "    .dataframe thead th {\n",
       "        text-align: right;\n",
       "    }\n",
       "</style>\n",
       "<table border=\"1\" class=\"dataframe\">\n",
       "  <thead>\n",
       "    <tr style=\"text-align: right;\">\n",
       "      <th></th>\n",
       "      <th>ID</th>\n",
       "      <th>Gender</th>\n",
       "      <th>Ever_Married</th>\n",
       "      <th>Age</th>\n",
       "      <th>Graduated</th>\n",
       "      <th>Profession</th>\n",
       "      <th>Work_Experience</th>\n",
       "      <th>Spending_Score</th>\n",
       "      <th>Family_Size</th>\n",
       "      <th>Var_1</th>\n",
       "      <th>Segmentation</th>\n",
       "    </tr>\n",
       "  </thead>\n",
       "  <tbody>\n",
       "    <tr>\n",
       "      <th>0</th>\n",
       "      <td>462809</td>\n",
       "      <td>Male</td>\n",
       "      <td>No</td>\n",
       "      <td>22</td>\n",
       "      <td>No</td>\n",
       "      <td>Healthcare</td>\n",
       "      <td>1.0</td>\n",
       "      <td>Low</td>\n",
       "      <td>4.0</td>\n",
       "      <td>Cat_4</td>\n",
       "      <td>D</td>\n",
       "    </tr>\n",
       "    <tr>\n",
       "      <th>1</th>\n",
       "      <td>462643</td>\n",
       "      <td>Female</td>\n",
       "      <td>Yes</td>\n",
       "      <td>38</td>\n",
       "      <td>Yes</td>\n",
       "      <td>Engineer</td>\n",
       "      <td>NaN</td>\n",
       "      <td>Average</td>\n",
       "      <td>3.0</td>\n",
       "      <td>Cat_4</td>\n",
       "      <td>A</td>\n",
       "    </tr>\n",
       "    <tr>\n",
       "      <th>2</th>\n",
       "      <td>466315</td>\n",
       "      <td>Female</td>\n",
       "      <td>Yes</td>\n",
       "      <td>67</td>\n",
       "      <td>Yes</td>\n",
       "      <td>Engineer</td>\n",
       "      <td>1.0</td>\n",
       "      <td>Low</td>\n",
       "      <td>1.0</td>\n",
       "      <td>Cat_6</td>\n",
       "      <td>B</td>\n",
       "    </tr>\n",
       "    <tr>\n",
       "      <th>3</th>\n",
       "      <td>461735</td>\n",
       "      <td>Male</td>\n",
       "      <td>Yes</td>\n",
       "      <td>67</td>\n",
       "      <td>Yes</td>\n",
       "      <td>Lawyer</td>\n",
       "      <td>0.0</td>\n",
       "      <td>High</td>\n",
       "      <td>2.0</td>\n",
       "      <td>Cat_6</td>\n",
       "      <td>B</td>\n",
       "    </tr>\n",
       "    <tr>\n",
       "      <th>4</th>\n",
       "      <td>462669</td>\n",
       "      <td>Female</td>\n",
       "      <td>Yes</td>\n",
       "      <td>40</td>\n",
       "      <td>Yes</td>\n",
       "      <td>Entertainment</td>\n",
       "      <td>NaN</td>\n",
       "      <td>High</td>\n",
       "      <td>6.0</td>\n",
       "      <td>Cat_6</td>\n",
       "      <td>A</td>\n",
       "    </tr>\n",
       "    <tr>\n",
       "      <th>...</th>\n",
       "      <td>...</td>\n",
       "      <td>...</td>\n",
       "      <td>...</td>\n",
       "      <td>...</td>\n",
       "      <td>...</td>\n",
       "      <td>...</td>\n",
       "      <td>...</td>\n",
       "      <td>...</td>\n",
       "      <td>...</td>\n",
       "      <td>...</td>\n",
       "      <td>...</td>\n",
       "    </tr>\n",
       "    <tr>\n",
       "      <th>2629</th>\n",
       "      <td>467950</td>\n",
       "      <td>Female</td>\n",
       "      <td>No</td>\n",
       "      <td>35</td>\n",
       "      <td>Yes</td>\n",
       "      <td>Entertainment</td>\n",
       "      <td>1.0</td>\n",
       "      <td>Low</td>\n",
       "      <td>2.0</td>\n",
       "      <td>Cat_6</td>\n",
       "      <td>D</td>\n",
       "    </tr>\n",
       "    <tr>\n",
       "      <th>2630</th>\n",
       "      <td>467954</td>\n",
       "      <td>Male</td>\n",
       "      <td>No</td>\n",
       "      <td>29</td>\n",
       "      <td>No</td>\n",
       "      <td>Healthcare</td>\n",
       "      <td>9.0</td>\n",
       "      <td>Low</td>\n",
       "      <td>4.0</td>\n",
       "      <td>Cat_6</td>\n",
       "      <td>B</td>\n",
       "    </tr>\n",
       "    <tr>\n",
       "      <th>2631</th>\n",
       "      <td>467946</td>\n",
       "      <td>Female</td>\n",
       "      <td>Yes</td>\n",
       "      <td>42</td>\n",
       "      <td>Yes</td>\n",
       "      <td>Artist</td>\n",
       "      <td>0.0</td>\n",
       "      <td>Low</td>\n",
       "      <td>2.0</td>\n",
       "      <td>Cat_6</td>\n",
       "      <td>A</td>\n",
       "    </tr>\n",
       "    <tr>\n",
       "      <th>2632</th>\n",
       "      <td>467948</td>\n",
       "      <td>Female</td>\n",
       "      <td>No</td>\n",
       "      <td>19</td>\n",
       "      <td>No</td>\n",
       "      <td>Healthcare</td>\n",
       "      <td>0.0</td>\n",
       "      <td>Low</td>\n",
       "      <td>3.0</td>\n",
       "      <td>Cat_6</td>\n",
       "      <td>A</td>\n",
       "    </tr>\n",
       "    <tr>\n",
       "      <th>2633</th>\n",
       "      <td>467949</td>\n",
       "      <td>Male</td>\n",
       "      <td>No</td>\n",
       "      <td>21</td>\n",
       "      <td>No</td>\n",
       "      <td>Healthcare</td>\n",
       "      <td>1.0</td>\n",
       "      <td>Low</td>\n",
       "      <td>4.0</td>\n",
       "      <td>Cat_4</td>\n",
       "      <td>D</td>\n",
       "    </tr>\n",
       "  </tbody>\n",
       "</table>\n",
       "<p>10702 rows × 11 columns</p>\n",
       "</div>"
      ],
      "text/plain": [
       "          ID  Gender Ever_Married  Age Graduated     Profession  \\\n",
       "0     462809    Male           No   22        No     Healthcare   \n",
       "1     462643  Female          Yes   38       Yes       Engineer   \n",
       "2     466315  Female          Yes   67       Yes       Engineer   \n",
       "3     461735    Male          Yes   67       Yes         Lawyer   \n",
       "4     462669  Female          Yes   40       Yes  Entertainment   \n",
       "...      ...     ...          ...  ...       ...            ...   \n",
       "2629  467950  Female           No   35       Yes  Entertainment   \n",
       "2630  467954    Male           No   29        No     Healthcare   \n",
       "2631  467946  Female          Yes   42       Yes         Artist   \n",
       "2632  467948  Female           No   19        No     Healthcare   \n",
       "2633  467949    Male           No   21        No     Healthcare   \n",
       "\n",
       "      Work_Experience Spending_Score  Family_Size  Var_1 Segmentation  \n",
       "0                 1.0            Low          4.0  Cat_4            D  \n",
       "1                 NaN        Average          3.0  Cat_4            A  \n",
       "2                 1.0            Low          1.0  Cat_6            B  \n",
       "3                 0.0           High          2.0  Cat_6            B  \n",
       "4                 NaN           High          6.0  Cat_6            A  \n",
       "...               ...            ...          ...    ...          ...  \n",
       "2629              1.0            Low          2.0  Cat_6            D  \n",
       "2630              9.0            Low          4.0  Cat_6            B  \n",
       "2631              0.0            Low          2.0  Cat_6            A  \n",
       "2632              0.0            Low          3.0  Cat_6            A  \n",
       "2633              1.0            Low          4.0  Cat_4            D  \n",
       "\n",
       "[10702 rows x 11 columns]"
      ]
     },
     "execution_count": 2,
     "metadata": {},
     "output_type": "execute_result"
    }
   ],
   "source": [
    "train_df = pd.read_csv(\"Train.csv\")\n",
    "test_df = pd.read_csv(\"Test.csv\")\n",
    "df = pd.concat([train_df, test_df])\n",
    "df"
   ]
  },
  {
   "cell_type": "markdown",
   "id": "b023f0c2-423c-4468-a4d0-54c129112975",
   "metadata": {},
   "source": [
    "## Melakukan Data Cleaning"
   ]
  },
  {
   "cell_type": "code",
   "execution_count": 3,
   "id": "52742078-5616-47f2-9120-59717710a1c0",
   "metadata": {},
   "outputs": [],
   "source": [
    "from sklearn.impute import SimpleImputer"
   ]
  },
  {
   "cell_type": "code",
   "execution_count": 4,
   "id": "b18153f1-9fda-4a04-8fc5-77aa5a177545",
   "metadata": {},
   "outputs": [],
   "source": [
    "# Membuat imputer untuk mengganti nilai null pada attribut dengan nilai mean\n",
    "float_imputer = SimpleImputer(missing_values = pd.NA, strategy = 'mean')\n",
    "df[['Work_Experience', 'Family_Size']] = float_imputer.fit_transform(df[['Work_Experience', 'Family_Size']])\n",
    "# Membuat imputer untuk mengganti nilai null pada attribut dengan nilai modus\n",
    "text_imputer = SimpleImputer(missing_values = pd.NA, strategy = 'most_frequent')\n",
    "df[['Ever_Married', 'Graduated', 'Profession', 'Var_1']] = text_imputer.fit_transform(df[['Ever_Married', 'Graduated', 'Profession', 'Var_1']])\n",
    "# Menghapus nilai duplikat\n",
    "df.drop_duplicates(inplace=True)"
   ]
  },
  {
   "cell_type": "code",
   "execution_count": 5,
   "id": "6eba5dc5-3597-4173-8cc7-1c79ff9c2e23",
   "metadata": {},
   "outputs": [
    {
     "data": {
      "text/plain": [
       "ID                 0\n",
       "Gender             0\n",
       "Ever_Married       0\n",
       "Age                0\n",
       "Graduated          0\n",
       "Profession         0\n",
       "Work_Experience    0\n",
       "Spending_Score     0\n",
       "Family_Size        0\n",
       "Var_1              0\n",
       "Segmentation       0\n",
       "dtype: int64"
      ]
     },
     "execution_count": 5,
     "metadata": {},
     "output_type": "execute_result"
    }
   ],
   "source": [
    "df.isnull().sum()"
   ]
  },
  {
   "cell_type": "code",
   "execution_count": 6,
   "id": "8e94a944-35c4-442c-b9d5-26b6411c1b59",
   "metadata": {},
   "outputs": [
    {
     "data": {
      "text/plain": [
       "0"
      ]
     },
     "execution_count": 6,
     "metadata": {},
     "output_type": "execute_result"
    }
   ],
   "source": [
    "df.duplicated().sum()"
   ]
  },
  {
   "cell_type": "markdown",
   "id": "26688abb-9ae3-446b-b517-2697eaeb4909",
   "metadata": {},
   "source": [
    "## Menghapus Kolom Atribut ID"
   ]
  },
  {
   "cell_type": "code",
   "execution_count": 7,
   "id": "7f7526ce-42fe-4c83-b19c-44abbeaace4f",
   "metadata": {},
   "outputs": [],
   "source": [
    "del df['ID']"
   ]
  },
  {
   "cell_type": "markdown",
   "id": "4263b946-dbb7-4699-95f4-a1087f3dfc68",
   "metadata": {},
   "source": [
    "## Melakukan Ordinal Encoding Pada Atribut Gender, Ever_Married, Graduated, Profession, Spending_Score, Var_1 "
   ]
  },
  {
   "cell_type": "code",
   "execution_count": 8,
   "id": "eb4873d8-143e-441a-a94e-4cfbf5e730db",
   "metadata": {},
   "outputs": [],
   "source": [
    "from sklearn.preprocessing import OrdinalEncoder"
   ]
  },
  {
   "cell_type": "code",
   "execution_count": 9,
   "id": "2a71b352-8331-441c-8a95-55be5ef08a18",
   "metadata": {},
   "outputs": [],
   "source": [
    "encoder = OrdinalEncoder()\n",
    "df[[\"Gender\",\"Ever_Married\",\"Graduated\",\"Profession\",\"Spending_Score\",\"Var_1\"]] = encoder.fit_transform(df[[\"Gender\",\"Ever_Married\",\"Graduated\",\"Profession\",\"Spending_Score\",\"Var_1\"]])"
   ]
  },
  {
   "cell_type": "markdown",
   "id": "1f41b89f-0b02-4153-8327-d5f4f70e6ad9",
   "metadata": {},
   "source": [
    "## Mengubah Tipe Data Atribut Work_Experience dan Family_Size Menjadi Integer"
   ]
  },
  {
   "cell_type": "code",
   "execution_count": 10,
   "id": "37d287c0-860f-4dc2-a047-b7e99df4ceae",
   "metadata": {},
   "outputs": [],
   "source": [
    "df[['Work_Experience','Family_Size']] = df[['Work_Experience','Family_Size']].astype(int)"
   ]
  },
  {
   "cell_type": "code",
   "execution_count": 11,
   "id": "1677f431-413f-49b2-a4ac-ca600deb8b50",
   "metadata": {},
   "outputs": [
    {
     "data": {
      "text/html": [
       "<div>\n",
       "<style scoped>\n",
       "    .dataframe tbody tr th:only-of-type {\n",
       "        vertical-align: middle;\n",
       "    }\n",
       "\n",
       "    .dataframe tbody tr th {\n",
       "        vertical-align: top;\n",
       "    }\n",
       "\n",
       "    .dataframe thead th {\n",
       "        text-align: right;\n",
       "    }\n",
       "</style>\n",
       "<table border=\"1\" class=\"dataframe\">\n",
       "  <thead>\n",
       "    <tr style=\"text-align: right;\">\n",
       "      <th></th>\n",
       "      <th>Gender</th>\n",
       "      <th>Ever_Married</th>\n",
       "      <th>Age</th>\n",
       "      <th>Graduated</th>\n",
       "      <th>Profession</th>\n",
       "      <th>Work_Experience</th>\n",
       "      <th>Spending_Score</th>\n",
       "      <th>Family_Size</th>\n",
       "      <th>Var_1</th>\n",
       "      <th>Segmentation</th>\n",
       "    </tr>\n",
       "  </thead>\n",
       "  <tbody>\n",
       "    <tr>\n",
       "      <th>0</th>\n",
       "      <td>1.0</td>\n",
       "      <td>0.0</td>\n",
       "      <td>22</td>\n",
       "      <td>0.0</td>\n",
       "      <td>5.0</td>\n",
       "      <td>1</td>\n",
       "      <td>2.0</td>\n",
       "      <td>4</td>\n",
       "      <td>3.0</td>\n",
       "      <td>D</td>\n",
       "    </tr>\n",
       "    <tr>\n",
       "      <th>1</th>\n",
       "      <td>0.0</td>\n",
       "      <td>1.0</td>\n",
       "      <td>38</td>\n",
       "      <td>1.0</td>\n",
       "      <td>2.0</td>\n",
       "      <td>2</td>\n",
       "      <td>0.0</td>\n",
       "      <td>3</td>\n",
       "      <td>3.0</td>\n",
       "      <td>A</td>\n",
       "    </tr>\n",
       "    <tr>\n",
       "      <th>2</th>\n",
       "      <td>0.0</td>\n",
       "      <td>1.0</td>\n",
       "      <td>67</td>\n",
       "      <td>1.0</td>\n",
       "      <td>2.0</td>\n",
       "      <td>1</td>\n",
       "      <td>2.0</td>\n",
       "      <td>1</td>\n",
       "      <td>5.0</td>\n",
       "      <td>B</td>\n",
       "    </tr>\n",
       "    <tr>\n",
       "      <th>3</th>\n",
       "      <td>1.0</td>\n",
       "      <td>1.0</td>\n",
       "      <td>67</td>\n",
       "      <td>1.0</td>\n",
       "      <td>7.0</td>\n",
       "      <td>0</td>\n",
       "      <td>1.0</td>\n",
       "      <td>2</td>\n",
       "      <td>5.0</td>\n",
       "      <td>B</td>\n",
       "    </tr>\n",
       "    <tr>\n",
       "      <th>4</th>\n",
       "      <td>0.0</td>\n",
       "      <td>1.0</td>\n",
       "      <td>40</td>\n",
       "      <td>1.0</td>\n",
       "      <td>3.0</td>\n",
       "      <td>2</td>\n",
       "      <td>1.0</td>\n",
       "      <td>6</td>\n",
       "      <td>5.0</td>\n",
       "      <td>A</td>\n",
       "    </tr>\n",
       "    <tr>\n",
       "      <th>...</th>\n",
       "      <td>...</td>\n",
       "      <td>...</td>\n",
       "      <td>...</td>\n",
       "      <td>...</td>\n",
       "      <td>...</td>\n",
       "      <td>...</td>\n",
       "      <td>...</td>\n",
       "      <td>...</td>\n",
       "      <td>...</td>\n",
       "      <td>...</td>\n",
       "    </tr>\n",
       "    <tr>\n",
       "      <th>2622</th>\n",
       "      <td>1.0</td>\n",
       "      <td>0.0</td>\n",
       "      <td>29</td>\n",
       "      <td>0.0</td>\n",
       "      <td>5.0</td>\n",
       "      <td>9</td>\n",
       "      <td>2.0</td>\n",
       "      <td>4</td>\n",
       "      <td>5.0</td>\n",
       "      <td>B</td>\n",
       "    </tr>\n",
       "    <tr>\n",
       "      <th>2623</th>\n",
       "      <td>0.0</td>\n",
       "      <td>0.0</td>\n",
       "      <td>35</td>\n",
       "      <td>1.0</td>\n",
       "      <td>1.0</td>\n",
       "      <td>1</td>\n",
       "      <td>2.0</td>\n",
       "      <td>1</td>\n",
       "      <td>5.0</td>\n",
       "      <td>A</td>\n",
       "    </tr>\n",
       "    <tr>\n",
       "      <th>2624</th>\n",
       "      <td>0.0</td>\n",
       "      <td>0.0</td>\n",
       "      <td>53</td>\n",
       "      <td>1.0</td>\n",
       "      <td>3.0</td>\n",
       "      <td>2</td>\n",
       "      <td>2.0</td>\n",
       "      <td>2</td>\n",
       "      <td>5.0</td>\n",
       "      <td>C</td>\n",
       "    </tr>\n",
       "    <tr>\n",
       "      <th>2625</th>\n",
       "      <td>1.0</td>\n",
       "      <td>1.0</td>\n",
       "      <td>47</td>\n",
       "      <td>1.0</td>\n",
       "      <td>4.0</td>\n",
       "      <td>1</td>\n",
       "      <td>1.0</td>\n",
       "      <td>5</td>\n",
       "      <td>3.0</td>\n",
       "      <td>C</td>\n",
       "    </tr>\n",
       "    <tr>\n",
       "      <th>2626</th>\n",
       "      <td>0.0</td>\n",
       "      <td>0.0</td>\n",
       "      <td>43</td>\n",
       "      <td>1.0</td>\n",
       "      <td>5.0</td>\n",
       "      <td>9</td>\n",
       "      <td>2.0</td>\n",
       "      <td>3</td>\n",
       "      <td>6.0</td>\n",
       "      <td>A</td>\n",
       "    </tr>\n",
       "  </tbody>\n",
       "</table>\n",
       "<p>10657 rows × 10 columns</p>\n",
       "</div>"
      ],
      "text/plain": [
       "      Gender  Ever_Married  Age  Graduated  Profession  Work_Experience  \\\n",
       "0        1.0           0.0   22        0.0         5.0                1   \n",
       "1        0.0           1.0   38        1.0         2.0                2   \n",
       "2        0.0           1.0   67        1.0         2.0                1   \n",
       "3        1.0           1.0   67        1.0         7.0                0   \n",
       "4        0.0           1.0   40        1.0         3.0                2   \n",
       "...      ...           ...  ...        ...         ...              ...   \n",
       "2622     1.0           0.0   29        0.0         5.0                9   \n",
       "2623     0.0           0.0   35        1.0         1.0                1   \n",
       "2624     0.0           0.0   53        1.0         3.0                2   \n",
       "2625     1.0           1.0   47        1.0         4.0                1   \n",
       "2626     0.0           0.0   43        1.0         5.0                9   \n",
       "\n",
       "      Spending_Score  Family_Size  Var_1 Segmentation  \n",
       "0                2.0            4    3.0            D  \n",
       "1                0.0            3    3.0            A  \n",
       "2                2.0            1    5.0            B  \n",
       "3                1.0            2    5.0            B  \n",
       "4                1.0            6    5.0            A  \n",
       "...              ...          ...    ...          ...  \n",
       "2622             2.0            4    5.0            B  \n",
       "2623             2.0            1    5.0            A  \n",
       "2624             2.0            2    5.0            C  \n",
       "2625             1.0            5    3.0            C  \n",
       "2626             2.0            3    6.0            A  \n",
       "\n",
       "[10657 rows x 10 columns]"
      ]
     },
     "execution_count": 11,
     "metadata": {},
     "output_type": "execute_result"
    }
   ],
   "source": [
    "df"
   ]
  },
  {
   "cell_type": "markdown",
   "id": "eb68ed4e-7498-4e56-af5b-29c97136f965",
   "metadata": {},
   "source": [
    "## A. Supervised Learning\n",
    "---"
   ]
  },
  {
   "cell_type": "markdown",
   "id": "d1f0dc95-95ce-4cad-9286-84e5258648a6",
   "metadata": {},
   "source": [
    "### A1. Implementasi Metode\n",
    "#### Support Vector Classifier"
   ]
  },
  {
   "cell_type": "code",
   "execution_count": 12,
   "id": "50a18d6a-f9bd-4a6b-b308-bc16aeb8c35a",
   "metadata": {},
   "outputs": [],
   "source": [
    "import seaborn as sns\n",
    "import matplotlib.pyplot as plt\n",
    "import numpy as np\n",
    "from sklearn.svm import SVC\n",
    "from sklearn.model_selection import train_test_split\n",
    "from sklearn.inspection import DecisionBoundaryDisplay"
   ]
  },
  {
   "cell_type": "markdown",
   "id": "6b724768-1515-4159-acb7-a733047c5777",
   "metadata": {},
   "source": [
    "- Split Data"
   ]
  },
  {
   "cell_type": "code",
   "execution_count": 13,
   "id": "14402096-6330-4fb5-b6be-ed94975ca596",
   "metadata": {},
   "outputs": [],
   "source": [
    "# Split data ke dalam feature dan label\n",
    "X = df[['Spending_Score','Var_1']]\n",
    "y = df['Segmentation']\n",
    "y = np.where(y == 'C', 1, -1)\n",
    "# Split data menjadi training set dan tes set\n",
    "X_train, X_test, y_train, y_test = train_test_split(X, y, test_size = 0.2, random_state = 42)"
   ]
  },
  {
   "cell_type": "markdown",
   "id": "46a19de8-45a7-4339-b916-49c1e7d1da36",
   "metadata": {},
   "source": [
    "- Membuat Model, Melatih Model, dan Memprediksi Data Test  "
   ]
  },
  {
   "cell_type": "code",
   "execution_count": 14,
   "id": "11abcecb-1074-4713-b44e-24b94cd1842b",
   "metadata": {},
   "outputs": [],
   "source": [
    "# Membuat model SVM\n",
    "model = SVC(kernel='rbf',degree=5, random_state=42)\n",
    "# Melatih model \n",
    "model.fit(X_train, y_train)\n",
    "# Memprediksi data test\n",
    "y_pred = model.predict(X_test)"
   ]
  },
  {
   "cell_type": "markdown",
   "id": "f2355e94-37f2-4bb7-ae11-0e28bb5a7d77",
   "metadata": {},
   "source": [
    "- Melihat Akurasi Model Pada Data Test"
   ]
  },
  {
   "cell_type": "code",
   "execution_count": 15,
   "id": "a1c0b519-03f9-459f-bd3f-07bc12220c09",
   "metadata": {},
   "outputs": [
    {
     "name": "stdout",
     "output_type": "stream",
     "text": [
      "Akurasi Data Test:  1.0\n"
     ]
    }
   ],
   "source": [
    "accuracy = model.score(X_test, y_pred)\n",
    "print('Akurasi Data Test: ', accuracy)"
   ]
  },
  {
   "cell_type": "markdown",
   "id": "4fd8d18f-d386-45be-9c5c-4b021efe1210",
   "metadata": {},
   "source": [
    "- Menampilkan Grafik"
   ]
  },
  {
   "cell_type": "code",
   "execution_count": 16,
   "id": "fa7e9482-794e-4cdc-a304-6188d0226cc1",
   "metadata": {},
   "outputs": [],
   "source": [
    "# Mengambil nilai support vector\n",
    "sv = model.support_vectors_"
   ]
  },
  {
   "cell_type": "code",
   "execution_count": 22,
   "id": "1400d61f-a859-4ec5-a33c-32020c661a50",
   "metadata": {},
   "outputs": [
    {
     "name": "stderr",
     "output_type": "stream",
     "text": [
      "C:\\Users\\ADMIN\\venv_B1-21\\Zahra_063\\lib\\site-packages\\sklearn\\base.py:465: UserWarning: X does not have valid feature names, but SVC was fitted with feature names\n",
      "  warnings.warn(\n"
     ]
    },
    {
     "data": {
      "image/png": "[encoded data removed]",
      "text/plain": [
       "<Figure size 800x600 with 1 Axes>"
      ]
     },
     "metadata": {},
     "output_type": "display_data"
    }
   ],
   "source": [
    "x_min, x_max = X['Spending_Score'].min() - 1, X['Spending_Score'].max() + 1\n",
    "y_min, y_max = X['Var_1'].min() - 1, X['Var_1'].max() + 1\n",
    "xx, yy = np.meshgrid(np.arange(x_min, x_max, 0.02),\n",
    "                     np.arange(y_min, y_max, 0.02))\n",
    "Z = model.predict(np.c_[xx.ravel(), yy.ravel()])\n",
    "Z = Z.reshape(xx.shape)\n",
    "plt.figure(figsize=(8, 6))\n",
    "plt.contourf(xx, yy, Z, alpha=0.5, cmap='plasma')\n",
    "plt.scatter(X['Spending_Score'], X['Var_1'], c=y, edgecolors='k', cmap='plasma')\n",
    "plt.scatter(sv[:, 0], sv[:, 1], s = 40, label = 'support_vectors', marker = '+', color = 'cyan')\n",
    "plt.xlabel('Spending_Score')\n",
    "plt.ylabel('Var 1')\n",
    "plt.title('Customer Segmentation Classification')\n",
    "plt.show()"
   ]
  },
  {
   "cell_type": "markdown",
   "id": "adc37541-1506-4603-ab61-f5dabf5e3327",
   "metadata": {},
   "source": [
    "### A2. Hasil Prediksi (Klasifikasi)\n",
    "1. #### Confusion Matrix"
   ]
  },
  {
   "cell_type": "code",
   "execution_count": 18,
   "id": "1aec635f-377a-4d0d-8bcd-3e1d98bb180b",
   "metadata": {},
   "outputs": [],
   "source": [
    "from sklearn.metrics import confusion_matrix"
   ]
  },
  {
   "cell_type": "code",
   "execution_count": 19,
   "id": "a7e08beb-9339-474d-baa2-4e753594f3cc",
   "metadata": {},
   "outputs": [
    {
     "data": {
      "image/png": "[encoded data removed]",
      "text/plain": [
       "<Figure size 1000x700 with 2 Axes>"
      ]
     },
     "metadata": {},
     "output_type": "display_data"
    }
   ],
   "source": [
    "cm = confusion_matrix(y_test, y_pred)\n",
    "\n",
    "# Visualisasi Confusion Matrix dengan Heatmap\n",
    "plt.figure(figsize=(10,7))\n",
    "sns.heatmap(cm, annot=True, cmap=\"Blues\", fmt=\".0f\")\n",
    "plt.xlabel('Prediksi')\n",
    "plt.ylabel('Aktual')\n",
    "plt.title('Confusion Matrix Costumer Segmentation Multiclass')\n",
    "plt.show()"
   ]
  },
  {
   "cell_type": "markdown",
   "id": "70b5c819-a917-47cd-b21d-21392d2b1f40",
   "metadata": {},
   "source": [
    "Dari grafik tersebut dapat diketahui bahwa nilai **True Negative** untuk memprediksi apakah data segmentasi tersebut masuk ke dalam segmentasi C ada sebanyak 1685 data, sementara untuk nilai **False Positive** ada sebanyak 447 data. Lalu untuk nilai **True Positive** dan **False Negative** ada sebanyak 0 data"
   ]
  },
  {
   "cell_type": "markdown",
   "id": "c1743a93-6c1f-42a4-a9db-6f03329eed3c",
   "metadata": {},
   "source": [
    "2. #### Classification Report"
   ]
  },
  {
   "cell_type": "code",
   "execution_count": 20,
   "id": "605553a5-07b3-46c2-8eba-e418e6dd40f8",
   "metadata": {},
   "outputs": [],
   "source": [
    "from sklearn.metrics import classification_report as cr"
   ]
  },
  {
   "cell_type": "code",
   "execution_count": 21,
   "id": "badb137c-e5d6-4e31-a124-d0d3dfe48fcd",
   "metadata": {},
   "outputs": [
    {
     "name": "stdout",
     "output_type": "stream",
     "text": [
      "              precision    recall  f1-score   support\n",
      "\n",
      "          -1       0.79      1.00      0.88      1685\n",
      "           1       0.00      0.00      0.00       447\n",
      "\n",
      "    accuracy                           0.79      2132\n",
      "   macro avg       0.40      0.50      0.44      2132\n",
      "weighted avg       0.62      0.79      0.70      2132\n",
      "\n"
     ]
    },
    {
     "name": "stderr",
     "output_type": "stream",
     "text": [
      "C:\\Users\\ADMIN\\venv_B1-21\\Zahra_063\\lib\\site-packages\\sklearn\\metrics\\_classification.py:1469: UndefinedMetricWarning: Precision and F-score are ill-defined and being set to 0.0 in labels with no predicted samples. Use `zero_division` parameter to control this behavior.\n",
      "  _warn_prf(average, modifier, msg_start, len(result))\n",
      "C:\\Users\\ADMIN\\venv_B1-21\\Zahra_063\\lib\\site-packages\\sklearn\\metrics\\_classification.py:1469: UndefinedMetricWarning: Precision and F-score are ill-defined and being set to 0.0 in labels with no predicted samples. Use `zero_division` parameter to control this behavior.\n",
      "  _warn_prf(average, modifier, msg_start, len(result))\n",
      "C:\\Users\\ADMIN\\venv_B1-21\\Zahra_063\\lib\\site-packages\\sklearn\\metrics\\_classification.py:1469: UndefinedMetricWarning: Precision and F-score are ill-defined and being set to 0.0 in labels with no predicted samples. Use `zero_division` parameter to control this behavior.\n",
      "  _warn_prf(average, modifier, msg_start, len(result))\n"
     ]
    }
   ],
   "source": [
    "report = cr(y_test, y_pred)\n",
    "print(report)"
   ]
  },
  {
   "cell_type": "markdown",
   "id": "bfa6636c-b224-41e5-941d-4377d6e7eb71",
   "metadata": {},
   "source": [
    "Dari data di atas, dapat diketahui bahwa nilai akurasi keseluruhan dari data untuk memprediksi bahwa data tersebut masuk ke dalam segmentasi C sebesar 79%"
   ]
  },
  {
   "cell_type": "markdown",
   "id": "7ed882a5-4a50-4e03-b29a-eb34893ee55e",
   "metadata": {},
   "source": [
    "- Melihat nilai MAE, MSE, RMSE, R-Squared(R^2)"
   ]
  },
  {
   "cell_type": "code",
   "execution_count": 25,
   "id": "b4be04b0-7c07-41e1-83ba-d4417c95af0d",
   "metadata": {},
   "outputs": [
    {
     "name": "stdout",
     "output_type": "stream",
     "text": [
      "Hasil:\n",
      "MAE: 0.41932457786116323\n",
      "MSE: 0.8386491557223265\n",
      "RMSE: 0.9157778965023814\n",
      "R2: -0.2652818991097923\n"
     ]
    }
   ],
   "source": [
    "from sklearn.metrics import mean_absolute_error, mean_squared_error, r2_score\n",
    "from numpy import sqrt\n",
    "\n",
    "mae = mean_absolute_error(y_test, y_pred)\n",
    "mse = mean_squared_error(y_test, y_pred)\n",
    "rmse = sqrt(mse)\n",
    "r2 = r2_score(y_test, y_pred)\n",
    "print(f\"\"\"Hasil:\n",
    "MAE: {mae}\n",
    "MSE: {mse}\n",
    "RMSE: {rmse}\n",
    "R2: {r2}\"\"\")"
   ]
  },
  {
   "cell_type": "markdown",
   "id": "8d36133e-b4b6-47b1-b8df-43fd4e3d0194",
   "metadata": {},
   "source": [
    "## B. Unsupervised Learning\n",
    "### B1. Implementasi metode K-Means"
   ]
  },
  {
   "cell_type": "code",
   "execution_count": 38,
   "id": "2bccf2c6-6230-4065-bc0d-d8b6f2d7b799",
   "metadata": {},
   "outputs": [],
   "source": [
    "from sklearn.cluster import KMeans\n",
    "from sklearn.metrics import silhouette_score"
   ]
  },
  {
   "cell_type": "markdown",
   "id": "1f397fab-10b0-49f9-8125-6c8eab06f29d",
   "metadata": {},
   "source": [
    "- Memisahkan X dan y"
   ]
  },
  {
   "cell_type": "code",
   "execution_count": 36,
   "id": "9f021e09-582b-432e-83d4-51027297ecf9",
   "metadata": {},
   "outputs": [],
   "source": [
    "X_K = df.iloc[:, :-1]\n",
    "y_K = df.iloc[:, -1]"
   ]
  },
  {
   "cell_type": "markdown",
   "id": "c5658ee6-418a-4a60-bcb7-48878081c853",
   "metadata": {},
   "source": [
    "- Split data menjadi X dan y"
   ]
  },
  {
   "cell_type": "code",
   "execution_count": 41,
   "id": "7ed6158f-52fe-4469-a06d-54bb76e9a58d",
   "metadata": {},
   "outputs": [],
   "source": [
    "X_K_train, X_K_test, y_K_train, y_K_test = train_test_split(X_K, y_K, test_size = 0.2, random_state = 42)"
   ]
  },
  {
   "cell_type": "markdown",
   "id": "67b81865-9bc0-424d-b74e-2b3bcdda66ae",
   "metadata": {},
   "source": [
    "- Menginisiasi K Means Model"
   ]
  },
  {
   "cell_type": "code",
   "execution_count": 57,
   "id": "259f22e2-e310-4ff8-8f1a-95caf830ab2f",
   "metadata": {},
   "outputs": [],
   "source": [
    "km = KMeans(n_clusters=4, init='k-means++', max_iter=300, n_init=10, random_state=0)"
   ]
  },
  {
   "cell_type": "markdown",
   "id": "679959db-29bf-4429-9d66-cd817143ec5a",
   "metadata": {},
   "source": [
    "- Fit Model K Means"
   ]
  },
  {
   "cell_type": "code",
   "execution_count": 58,
   "id": "1215c8aa-6841-4ad6-b452-ec23e87af43e",
   "metadata": {},
   "outputs": [
    {
     "data": {
      "text/plain": [
       "array([1, 2, 3, ..., 0, 0, 2])"
      ]
     },
     "execution_count": 58,
     "metadata": {},
     "output_type": "execute_result"
    }
   ],
   "source": [
    "km.fit_predict(X_K)"
   ]
  },
  {
   "cell_type": "markdown",
   "id": "308c71c1-16c1-4994-998d-328aadfbb00f",
   "metadata": {},
   "source": [
    "- Menghitung skor Silhouette untuk cluster K-Means dengan n_clusters = N"
   ]
  },
  {
   "cell_type": "code",
   "execution_count": 59,
   "id": "28b6bbf2-77ec-41f3-84f4-f31518843edd",
   "metadata": {},
   "outputs": [
    {
     "name": "stdout",
     "output_type": "stream",
     "text": [
      "Silhouetter Score: 0.402\n"
     ]
    }
   ],
   "source": [
    "score = silhouette_score(X_K, km.labels_, metric='euclidean')\n",
    "print('Silhouetter Score: %.3f' % score)"
   ]
  },
  {
   "cell_type": "markdown",
   "id": "bccc051e-c13b-42f2-8210-941cac07c6c7",
   "metadata": {},
   "source": [
    "- Menampilkan Grafik Visualisasi Metode K-Means"
   ]
  },
  {
   "cell_type": "code",
   "execution_count": 60,
   "id": "a3f68fb6-9c8c-44c5-872b-f817c87ef70e",
   "metadata": {},
   "outputs": [
    {
     "data": {
      "image/png": "[encoded data removed]",
      "text/plain": [
       "<Figure size 640x480 with 1 Axes>"
      ]
     },
     "metadata": {},
     "output_type": "display_data"
    }
   ],
   "source": [
    "kmeans_kwargs = {\n",
    "    \"init\": \"random\",\n",
    "    \"n_init\": 10,\n",
    "    \"max_iter\": 300,\n",
    "    \"random_state\": 42,\n",
    "}\n",
    "\n",
    "silhouette_coefficients = []\n",
    "for k in range(1, 5):\n",
    "    kmeans = KMeans(n_clusters=4, **kmeans_kwargs)\n",
    "    kmeans.fit(X_K)\n",
    "    score = silhouette_score(X_K, km.labels_, metric='euclidean')\n",
    "    silhouette_coefficients.append(score)\n",
    "plt.style.use(\"fivethirtyeight\")\n",
    "plt.plot(range(1, 5), silhouette_coefficients)\n",
    "plt.xticks(range(1, 5))\n",
    "plt.title(\"Visualisasi Data Dengan Metode K-Means Shilhouette Score\")\n",
    "plt.xlabel(\"Number of Clusters\")\n",
    "plt.ylabel(\"Silhouette Coefficient\")\n",
    "plt.show()"
   ]
  },
  {
   "cell_type": "markdown",
   "id": "ae8ebe6a-c014-4fa7-b1f2-763bc8fa3dc4",
   "metadata": {},
   "source": [
    "### B2. Evaluasi Cluster"
   ]
  },
  {
   "cell_type": "markdown",
   "id": "c38ecf40-7e6f-47d4-9290-3206100a6bb5",
   "metadata": {},
   "source": [
    "- Unlabeled Dataset"
   ]
  },
  {
   "cell_type": "code",
   "execution_count": 67,
   "id": "6191c88a-8594-4839-9b2a-beedcca8e8da",
   "metadata": {},
   "outputs": [],
   "source": [
    "from sklearn.cluster import KMeans\n",
    "from sklearn.metrics import silhouette_score, davies_bouldin_score, calinski_harabasz_score"
   ]
  },
  {
   "cell_type": "code",
   "execution_count": 71,
   "id": "dd8ad8c7-e779-4637-a8ac-077d8f1bccbc",
   "metadata": {},
   "outputs": [],
   "source": [
    "X_C = df.iloc[:, :-1]\n",
    "cluster_labels = km.labels_"
   ]
  },
  {
   "cell_type": "code",
   "execution_count": 72,
   "id": "4d6c1677-c3e0-4880-8293-3e416a49e32d",
   "metadata": {},
   "outputs": [
    {
     "name": "stdout",
     "output_type": "stream",
     "text": [
      "======================================================\n",
      "Silhouette Score: 0.40\n",
      "------------------------------------------------------\n",
      "Davies-Bouldin Index: 0.80\n",
      "------------------------------------------------------\n",
      "Calinski-Harabasz Index: 21159.74\n",
      "======================================================\n"
     ]
    }
   ],
   "source": [
    "ss_score = silhouette_score(X_C, cluster_labels)\n",
    "db_index = davies_bouldin_score(X_C, cluster_labels)\n",
    "ch_index = calinski_harabasz_score(X_C, cluster_labels)\n",
    "print('======================================================')\n",
    "print(f\"Silhouette Score: {ss_score:.2f}\")\n",
    "print('------------------------------------------------------')\n",
    "print(f\"Davies-Bouldin Index: {db_index:.2f}\")\n",
    "print('------------------------------------------------------')\n",
    "print(f\"Calinski-Harabasz Index: {ch_index:.2f}\")\n",
    "print('======================================================')"
   ]
  },
  {
   "cell_type": "markdown",
   "id": "92d3a105-aec8-4c3e-ab2f-ab7f94290f7b",
   "metadata": {},
   "source": [
    "- Labeled Dataset"
   ]
  },
  {
   "cell_type": "code",
   "execution_count": 74,
   "id": "83a6585e-8377-4cda-ad83-d7b81006f59e",
   "metadata": {},
   "outputs": [],
   "source": [
    "from sklearn.metrics import adjusted_rand_score # ARI\n",
    "from sklearn.metrics import normalized_mutual_info_score # NMI\n",
    "from sklearn.metrics import homogeneity_score, completeness_score, v_measure_score # HCV-M"
   ]
  },
  {
   "cell_type": "markdown",
   "id": "2e6ef2bc-03c6-4c6b-b6b1-badbae71df21",
   "metadata": {},
   "source": [
    "- Membuat crosstab untuk membandingkan cluster labels dengan true labels"
   ]
  },
  {
   "cell_type": "code",
   "execution_count": 75,
   "id": "6b8d3448-8227-43c6-ab88-76a2e42ace6d",
   "metadata": {},
   "outputs": [],
   "source": [
    "df[\"cluster\"] = cluster_labels"
   ]
  },
  {
   "cell_type": "code",
   "execution_count": 76,
   "id": "fc039378-627a-4312-95ed-5049a30df83b",
   "metadata": {},
   "outputs": [],
   "source": [
    "cross_tab = pd.crosstab(df[\"cluster\"], df[\"Segmentation\"])"
   ]
  },
  {
   "cell_type": "markdown",
   "id": "70bc68a7-a649-409c-984a-a5b9ce5aa985",
   "metadata": {},
   "source": [
    "- Adjusted Rand Index (ARI)"
   ]
  },
  {
   "cell_type": "code",
   "execution_count": 77,
   "id": "172f2cd1-c13d-4b2f-9622-cf82c7a0254e",
   "metadata": {},
   "outputs": [],
   "source": [
    "ari = adjusted_rand_score(df[\"Segmentation\"], cluster_labels)"
   ]
  },
  {
   "cell_type": "markdown",
   "id": "35d78f27-b51e-47f0-9b10-399c4edf9055",
   "metadata": {},
   "source": [
    "- Normalized Mutual Information (NMI) dan Konversi nama pada kolom ‘Segmentation’ menjadi numerik"
   ]
  },
  {
   "cell_type": "code",
   "execution_count": 78,
   "id": "939fc15c-620c-4e0e-a321-e4f87ba72d0e",
   "metadata": {},
   "outputs": [],
   "source": [
    "true_labels_num = df[\"Segmentation\"].astype(\"category\").cat.codes\n",
    "nmi = normalized_mutual_info_score(true_labels_num, cluster_labels)"
   ]
  },
  {
   "cell_type": "markdown",
   "id": "1e5ae696-2bc1-45b2-bae7-ebc8c90b68ac",
   "metadata": {},
   "source": [
    "- Fungsi HCV-M"
   ]
  },
  {
   "cell_type": "code",
   "execution_count": 79,
   "id": "c1cf51f4-7752-4392-90c1-f4aec8096852",
   "metadata": {},
   "outputs": [],
   "source": [
    "homogeneity = homogeneity_score(df[\"Segmentation\"], cluster_labels)\n",
    "completeness = completeness_score(df[\"Segmentation\"], cluster_labels)\n",
    "v_measure = v_measure_score(df[\"Segmentation\"], cluster_labels)"
   ]
  },
  {
   "cell_type": "code",
   "execution_count": 80,
   "id": "9073b62d-0ca5-41f0-bc96-23da0a5bb79a",
   "metadata": {},
   "outputs": [
    {
     "name": "stdout",
     "output_type": "stream",
     "text": [
      "======================================================\n",
      "Cross-Tabulation: Segmentation     A    B    C     D\n",
      "cluster                           \n",
      "0              536  781  964   265\n",
      "1              776  390  362  1915\n",
      "2             1084  867  717   562\n",
      "3              417  364  391   266\n",
      "------------------------------------------------------\n",
      "Adjusted Rand Index (ARI): 0.09\n",
      "------------------------------------------------------\n",
      "Normalized Mutual Information (NMI): 0.08\n",
      "------------------------------------------------------\n",
      "Homogeneity Score: 0.08\n",
      "Completeness Score: 0.08\n",
      "V-Measure Score: 0.08\n",
      "======================================================\n"
     ]
    }
   ],
   "source": [
    "print('======================================================')\n",
    "print(\"Cross-Tabulation:\", cross_tab)\n",
    "print('------------------------------------------------------')\n",
    "print(f\"Adjusted Rand Index (ARI): {ari:.2f}\")\n",
    "print('------------------------------------------------------')\n",
    "print(f\"Normalized Mutual Information (NMI): {nmi:.2f}\")\n",
    "print('------------------------------------------------------')\n",
    "print(f\"Homogeneity Score: {homogeneity:.2f}\")\n",
    "print(f\"Completeness Score: {completeness:.2f}\")\n",
    "print(f\"V-Measure Score: {v_measure:.2f}\")\n",
    "print('======================================================')"
   ]
  },
  {
   "cell_type": "code",
   "execution_count": null,
   "id": "c07d6435-b807-407c-ad83-901861fa08ed",
   "metadata": {},
   "outputs": [],
   "source": []
  }
 ],
 "metadata": {
  "kernelspec": {
   "display_name": "Zahra_063",
   "language": "python",
   "name": "zahra_063"
  },
  "language_info": {
   "codemirror_mode": {
    "name": "ipython",
    "version": 3
   },
   "file_extension": ".py",
   "mimetype": "text/x-python",
   "name": "python",
   "nbconvert_exporter": "python",
   "pygments_lexer": "ipython3",
   "version": "3.10.7"
  }
 },
 "nbformat": 4,
 "nbformat_minor": 5
}
