{
 "cells": [
  {
   "cell_type": "markdown",
   "id": "5a2b66aa-5a75-4eca-8faa-9a888c938de4",
   "metadata": {},
   "source": [
    "# POSTTEST 6 Kecerdasan Buatan\n",
    "---\n",
    "(*2109106063* - Zahra Salsabila - B121)"
   ]
  },
  {
   "cell_type": "markdown",
   "id": "06c41d7b-c3e7-4f89-9b85-68831a83d1e3",
   "metadata": {},
   "source": [
    "## Melihat Data"
   ]
  },
  {
   "cell_type": "code",
   "execution_count": 1,
   "id": "3e1a9133-fd48-4b7e-9f73-4845d58963d5",
   "metadata": {},
   "outputs": [],
   "source": [
    "import pandas as pd"
   ]
  },
  {
   "cell_type": "code",
   "execution_count": 2,
   "id": "a8518b61-6cb1-42e7-8a36-a7c91b373bb5",
   "metadata": {},
   "outputs": [
    {
     "data": {
      "text/html": [
       "<div>\n",
       "<style scoped>\n",
       "    .dataframe tbody tr th:only-of-type {\n",
       "        vertical-align: middle;\n",
       "    }\n",
       "\n",
       "    .dataframe tbody tr th {\n",
       "        vertical-align: top;\n",
       "    }\n",
       "\n",
       "    .dataframe thead th {\n",
       "        text-align: right;\n",
       "    }\n",
       "</style>\n",
       "<table border=\"1\" class=\"dataframe\">\n",
       "  <thead>\n",
       "    <tr style=\"text-align: right;\">\n",
       "      <th></th>\n",
       "      <th>ID</th>\n",
       "      <th>Gender</th>\n",
       "      <th>Ever_Married</th>\n",
       "      <th>Age</th>\n",
       "      <th>Graduated</th>\n",
       "      <th>Profession</th>\n",
       "      <th>Work_Experience</th>\n",
       "      <th>Spending_Score</th>\n",
       "      <th>Family_Size</th>\n",
       "      <th>Var_1</th>\n",
       "      <th>Segmentation</th>\n",
       "    </tr>\n",
       "  </thead>\n",
       "  <tbody>\n",
       "    <tr>\n",
       "      <th>0</th>\n",
       "      <td>462809</td>\n",
       "      <td>Male</td>\n",
       "      <td>No</td>\n",
       "      <td>22</td>\n",
       "      <td>No</td>\n",
       "      <td>Healthcare</td>\n",
       "      <td>1.0</td>\n",
       "      <td>Low</td>\n",
       "      <td>4.0</td>\n",
       "      <td>Cat_4</td>\n",
       "      <td>D</td>\n",
       "    </tr>\n",
       "    <tr>\n",
       "      <th>1</th>\n",
       "      <td>462643</td>\n",
       "      <td>Female</td>\n",
       "      <td>Yes</td>\n",
       "      <td>38</td>\n",
       "      <td>Yes</td>\n",
       "      <td>Engineer</td>\n",
       "      <td>NaN</td>\n",
       "      <td>Average</td>\n",
       "      <td>3.0</td>\n",
       "      <td>Cat_4</td>\n",
       "      <td>A</td>\n",
       "    </tr>\n",
       "    <tr>\n",
       "      <th>2</th>\n",
       "      <td>466315</td>\n",
       "      <td>Female</td>\n",
       "      <td>Yes</td>\n",
       "      <td>67</td>\n",
       "      <td>Yes</td>\n",
       "      <td>Engineer</td>\n",
       "      <td>1.0</td>\n",
       "      <td>Low</td>\n",
       "      <td>1.0</td>\n",
       "      <td>Cat_6</td>\n",
       "      <td>B</td>\n",
       "    </tr>\n",
       "    <tr>\n",
       "      <th>3</th>\n",
       "      <td>461735</td>\n",
       "      <td>Male</td>\n",
       "      <td>Yes</td>\n",
       "      <td>67</td>\n",
       "      <td>Yes</td>\n",
       "      <td>Lawyer</td>\n",
       "      <td>0.0</td>\n",
       "      <td>High</td>\n",
       "      <td>2.0</td>\n",
       "      <td>Cat_6</td>\n",
       "      <td>B</td>\n",
       "    </tr>\n",
       "    <tr>\n",
       "      <th>4</th>\n",
       "      <td>462669</td>\n",
       "      <td>Female</td>\n",
       "      <td>Yes</td>\n",
       "      <td>40</td>\n",
       "      <td>Yes</td>\n",
       "      <td>Entertainment</td>\n",
       "      <td>NaN</td>\n",
       "      <td>High</td>\n",
       "      <td>6.0</td>\n",
       "      <td>Cat_6</td>\n",
       "      <td>A</td>\n",
       "    </tr>\n",
       "    <tr>\n",
       "      <th>...</th>\n",
       "      <td>...</td>\n",
       "      <td>...</td>\n",
       "      <td>...</td>\n",
       "      <td>...</td>\n",
       "      <td>...</td>\n",
       "      <td>...</td>\n",
       "      <td>...</td>\n",
       "      <td>...</td>\n",
       "      <td>...</td>\n",
       "      <td>...</td>\n",
       "      <td>...</td>\n",
       "    </tr>\n",
       "    <tr>\n",
       "      <th>2622</th>\n",
       "      <td>467954</td>\n",
       "      <td>Male</td>\n",
       "      <td>No</td>\n",
       "      <td>29</td>\n",
       "      <td>No</td>\n",
       "      <td>Healthcare</td>\n",
       "      <td>9.0</td>\n",
       "      <td>Low</td>\n",
       "      <td>4.0</td>\n",
       "      <td>Cat_6</td>\n",
       "      <td>B</td>\n",
       "    </tr>\n",
       "    <tr>\n",
       "      <th>2623</th>\n",
       "      <td>467958</td>\n",
       "      <td>Female</td>\n",
       "      <td>No</td>\n",
       "      <td>35</td>\n",
       "      <td>Yes</td>\n",
       "      <td>Doctor</td>\n",
       "      <td>1.0</td>\n",
       "      <td>Low</td>\n",
       "      <td>1.0</td>\n",
       "      <td>Cat_6</td>\n",
       "      <td>A</td>\n",
       "    </tr>\n",
       "    <tr>\n",
       "      <th>2624</th>\n",
       "      <td>467960</td>\n",
       "      <td>Female</td>\n",
       "      <td>No</td>\n",
       "      <td>53</td>\n",
       "      <td>Yes</td>\n",
       "      <td>Entertainment</td>\n",
       "      <td>NaN</td>\n",
       "      <td>Low</td>\n",
       "      <td>2.0</td>\n",
       "      <td>Cat_6</td>\n",
       "      <td>C</td>\n",
       "    </tr>\n",
       "    <tr>\n",
       "      <th>2625</th>\n",
       "      <td>467961</td>\n",
       "      <td>Male</td>\n",
       "      <td>Yes</td>\n",
       "      <td>47</td>\n",
       "      <td>Yes</td>\n",
       "      <td>Executive</td>\n",
       "      <td>1.0</td>\n",
       "      <td>High</td>\n",
       "      <td>5.0</td>\n",
       "      <td>Cat_4</td>\n",
       "      <td>C</td>\n",
       "    </tr>\n",
       "    <tr>\n",
       "      <th>2626</th>\n",
       "      <td>467968</td>\n",
       "      <td>Female</td>\n",
       "      <td>No</td>\n",
       "      <td>43</td>\n",
       "      <td>Yes</td>\n",
       "      <td>Healthcare</td>\n",
       "      <td>9.0</td>\n",
       "      <td>Low</td>\n",
       "      <td>3.0</td>\n",
       "      <td>Cat_7</td>\n",
       "      <td>A</td>\n",
       "    </tr>\n",
       "  </tbody>\n",
       "</table>\n",
       "<p>10695 rows × 11 columns</p>\n",
       "</div>"
      ],
      "text/plain": [
       "          ID  Gender Ever_Married  Age Graduated     Profession  \\\n",
       "0     462809    Male           No   22        No     Healthcare   \n",
       "1     462643  Female          Yes   38       Yes       Engineer   \n",
       "2     466315  Female          Yes   67       Yes       Engineer   \n",
       "3     461735    Male          Yes   67       Yes         Lawyer   \n",
       "4     462669  Female          Yes   40       Yes  Entertainment   \n",
       "...      ...     ...          ...  ...       ...            ...   \n",
       "2622  467954    Male           No   29        No     Healthcare   \n",
       "2623  467958  Female           No   35       Yes         Doctor   \n",
       "2624  467960  Female           No   53       Yes  Entertainment   \n",
       "2625  467961    Male          Yes   47       Yes      Executive   \n",
       "2626  467968  Female           No   43       Yes     Healthcare   \n",
       "\n",
       "      Work_Experience Spending_Score  Family_Size  Var_1 Segmentation  \n",
       "0                 1.0            Low          4.0  Cat_4            D  \n",
       "1                 NaN        Average          3.0  Cat_4            A  \n",
       "2                 1.0            Low          1.0  Cat_6            B  \n",
       "3                 0.0           High          2.0  Cat_6            B  \n",
       "4                 NaN           High          6.0  Cat_6            A  \n",
       "...               ...            ...          ...    ...          ...  \n",
       "2622              9.0            Low          4.0  Cat_6            B  \n",
       "2623              1.0            Low          1.0  Cat_6            A  \n",
       "2624              NaN            Low          2.0  Cat_6            C  \n",
       "2625              1.0           High          5.0  Cat_4            C  \n",
       "2626              9.0            Low          3.0  Cat_7            A  \n",
       "\n",
       "[10695 rows x 11 columns]"
      ]
     },
     "execution_count": 2,
     "metadata": {},
     "output_type": "execute_result"
    }
   ],
   "source": [
    "df1 = pd.read_csv(\"Train.csv\")\n",
    "df2 = pd.read_csv(\"Test.csv\")\n",
    "df = pd.concat([df1, df2])\n",
    "df"
   ]
  },
  {
   "cell_type": "markdown",
   "id": "e28ffdb6-6e1f-4d48-b728-cbefe0c267fa",
   "metadata": {},
   "source": [
    "## Data Preprocessing\n",
    "---\n",
    "### Melakukan Data Cleaning"
   ]
  },
  {
   "cell_type": "code",
   "execution_count": 3,
   "id": "267eb31e-3b3b-4570-b5c3-a4314f25f80f",
   "metadata": {},
   "outputs": [],
   "source": [
    "from sklearn.impute import SimpleImputer"
   ]
  },
  {
   "cell_type": "code",
   "execution_count": 4,
   "id": "152ef70c-63d2-452a-b7a4-c5cb5929673f",
   "metadata": {},
   "outputs": [],
   "source": [
    "# Membuat imputer untuk mengganti nilai null pada attribut dengan nilai mean\n",
    "float_imputer = SimpleImputer(missing_values = pd.NA, strategy = 'mean')\n",
    "df[['Work_Experience', 'Family_Size']] = float_imputer.fit_transform(df[['Work_Experience', 'Family_Size']])\n",
    "# Membuat imputer untuk mengganti nilai null pada attribut dengan nilai modus\n",
    "text_imputer = SimpleImputer(missing_values = pd.NA, strategy = 'most_frequent')\n",
    "df[['Ever_Married', 'Graduated', 'Profession', 'Var_1']] = text_imputer.fit_transform(df[['Ever_Married', 'Graduated', 'Profession', 'Var_1']])\n",
    "# Menghapus nilai duplikat\n",
    "df.drop_duplicates(inplace=True)"
   ]
  },
  {
   "cell_type": "markdown",
   "id": "5ca7bd8e-99a4-4806-ade8-245ed1438d2a",
   "metadata": {},
   "source": [
    "- Melihat jumlah nilai null"
   ]
  },
  {
   "cell_type": "code",
   "execution_count": 5,
   "id": "26349c1c-660d-45f3-8a7b-41f2b8aace20",
   "metadata": {},
   "outputs": [
    {
     "data": {
      "text/plain": [
       "ID                 0\n",
       "Gender             0\n",
       "Ever_Married       0\n",
       "Age                0\n",
       "Graduated          0\n",
       "Profession         0\n",
       "Work_Experience    0\n",
       "Spending_Score     0\n",
       "Family_Size        0\n",
       "Var_1              0\n",
       "Segmentation       0\n",
       "dtype: int64"
      ]
     },
     "execution_count": 5,
     "metadata": {},
     "output_type": "execute_result"
    }
   ],
   "source": [
    "df.isnull().sum()"
   ]
  },
  {
   "cell_type": "markdown",
   "id": "f5527e7e-1781-44ee-9c53-89af3f9be921",
   "metadata": {},
   "source": [
    "- Melihat jumlah nilai duplikat"
   ]
  },
  {
   "cell_type": "code",
   "execution_count": 6,
   "id": "001e254e-c643-4a64-bac9-3d220aa47b8c",
   "metadata": {},
   "outputs": [
    {
     "data": {
      "text/plain": [
       "0"
      ]
     },
     "execution_count": 6,
     "metadata": {},
     "output_type": "execute_result"
    }
   ],
   "source": [
    "df.duplicated().sum()"
   ]
  },
  {
   "cell_type": "markdown",
   "id": "519bfc5a-fd8f-4bf3-a583-f0b6d1343048",
   "metadata": {},
   "source": [
    "- Menghapus kolom ID"
   ]
  },
  {
   "cell_type": "code",
   "execution_count": 7,
   "id": "906847c3-ff96-4caf-992e-3c7b5896ead0",
   "metadata": {},
   "outputs": [],
   "source": [
    "del df['ID']"
   ]
  },
  {
   "cell_type": "markdown",
   "id": "c8d8eaae-08b4-406d-a116-98f4f0dcf40f",
   "metadata": {},
   "source": [
    "### Mengubah Data Kategorikal Menjadi Numerikal Dengan Ordinal Encoding"
   ]
  },
  {
   "cell_type": "code",
   "execution_count": 8,
   "id": "7d2af857-123b-4f18-a49d-812ea93561b8",
   "metadata": {},
   "outputs": [],
   "source": [
    "from sklearn.preprocessing import OrdinalEncoder"
   ]
  },
  {
   "cell_type": "code",
   "execution_count": 9,
   "id": "d7a3af4c-8b4b-4d71-87e3-8e266aeaa903",
   "metadata": {},
   "outputs": [],
   "source": [
    "encoder = OrdinalEncoder()\n",
    "df[[\"Gender\",\"Ever_Married\",\"Graduated\",\"Profession\",\"Spending_Score\",\"Var_1\",\"Segmentation\"]] = encoder.fit_transform(df[[\"Gender\",\"Ever_Married\",\"Graduated\",\"Profession\",\"Spending_Score\",\"Var_1\",\"Segmentation\"]])"
   ]
  },
  {
   "cell_type": "code",
   "execution_count": 10,
   "id": "20f08a15-623e-4aaf-848e-2d5499bee452",
   "metadata": {},
   "outputs": [
    {
     "data": {
      "text/html": [
       "<div>\n",
       "<style scoped>\n",
       "    .dataframe tbody tr th:only-of-type {\n",
       "        vertical-align: middle;\n",
       "    }\n",
       "\n",
       "    .dataframe tbody tr th {\n",
       "        vertical-align: top;\n",
       "    }\n",
       "\n",
       "    .dataframe thead th {\n",
       "        text-align: right;\n",
       "    }\n",
       "</style>\n",
       "<table border=\"1\" class=\"dataframe\">\n",
       "  <thead>\n",
       "    <tr style=\"text-align: right;\">\n",
       "      <th></th>\n",
       "      <th>Gender</th>\n",
       "      <th>Ever_Married</th>\n",
       "      <th>Age</th>\n",
       "      <th>Graduated</th>\n",
       "      <th>Profession</th>\n",
       "      <th>Work_Experience</th>\n",
       "      <th>Spending_Score</th>\n",
       "      <th>Family_Size</th>\n",
       "      <th>Var_1</th>\n",
       "      <th>Segmentation</th>\n",
       "    </tr>\n",
       "  </thead>\n",
       "  <tbody>\n",
       "    <tr>\n",
       "      <th>0</th>\n",
       "      <td>1.0</td>\n",
       "      <td>0.0</td>\n",
       "      <td>22</td>\n",
       "      <td>0.0</td>\n",
       "      <td>5.0</td>\n",
       "      <td>1.000000</td>\n",
       "      <td>2.0</td>\n",
       "      <td>4.0</td>\n",
       "      <td>3.0</td>\n",
       "      <td>3.0</td>\n",
       "    </tr>\n",
       "    <tr>\n",
       "      <th>1</th>\n",
       "      <td>0.0</td>\n",
       "      <td>1.0</td>\n",
       "      <td>38</td>\n",
       "      <td>1.0</td>\n",
       "      <td>2.0</td>\n",
       "      <td>2.619777</td>\n",
       "      <td>0.0</td>\n",
       "      <td>3.0</td>\n",
       "      <td>3.0</td>\n",
       "      <td>0.0</td>\n",
       "    </tr>\n",
       "    <tr>\n",
       "      <th>2</th>\n",
       "      <td>0.0</td>\n",
       "      <td>1.0</td>\n",
       "      <td>67</td>\n",
       "      <td>1.0</td>\n",
       "      <td>2.0</td>\n",
       "      <td>1.000000</td>\n",
       "      <td>2.0</td>\n",
       "      <td>1.0</td>\n",
       "      <td>5.0</td>\n",
       "      <td>1.0</td>\n",
       "    </tr>\n",
       "    <tr>\n",
       "      <th>3</th>\n",
       "      <td>1.0</td>\n",
       "      <td>1.0</td>\n",
       "      <td>67</td>\n",
       "      <td>1.0</td>\n",
       "      <td>7.0</td>\n",
       "      <td>0.000000</td>\n",
       "      <td>1.0</td>\n",
       "      <td>2.0</td>\n",
       "      <td>5.0</td>\n",
       "      <td>1.0</td>\n",
       "    </tr>\n",
       "    <tr>\n",
       "      <th>4</th>\n",
       "      <td>0.0</td>\n",
       "      <td>1.0</td>\n",
       "      <td>40</td>\n",
       "      <td>1.0</td>\n",
       "      <td>3.0</td>\n",
       "      <td>2.619777</td>\n",
       "      <td>1.0</td>\n",
       "      <td>6.0</td>\n",
       "      <td>5.0</td>\n",
       "      <td>0.0</td>\n",
       "    </tr>\n",
       "  </tbody>\n",
       "</table>\n",
       "</div>"
      ],
      "text/plain": [
       "   Gender  Ever_Married  Age  Graduated  Profession  Work_Experience  \\\n",
       "0     1.0           0.0   22        0.0         5.0         1.000000   \n",
       "1     0.0           1.0   38        1.0         2.0         2.619777   \n",
       "2     0.0           1.0   67        1.0         2.0         1.000000   \n",
       "3     1.0           1.0   67        1.0         7.0         0.000000   \n",
       "4     0.0           1.0   40        1.0         3.0         2.619777   \n",
       "\n",
       "   Spending_Score  Family_Size  Var_1  Segmentation  \n",
       "0             2.0          4.0    3.0           3.0  \n",
       "1             0.0          3.0    3.0           0.0  \n",
       "2             2.0          1.0    5.0           1.0  \n",
       "3             1.0          2.0    5.0           1.0  \n",
       "4             1.0          6.0    5.0           0.0  "
      ]
     },
     "execution_count": 10,
     "metadata": {},
     "output_type": "execute_result"
    }
   ],
   "source": [
    "df.head()"
   ]
  },
  {
   "cell_type": "markdown",
   "id": "a6b27fb4-999e-4d21-a94b-990a0387cd03",
   "metadata": {},
   "source": [
    "### Mengubah Atribut Dengan Tipe Data Float Menjadi Integer"
   ]
  },
  {
   "cell_type": "code",
   "execution_count": 11,
   "id": "18f6405c-f998-4605-be98-c14942ba30c1",
   "metadata": {},
   "outputs": [],
   "source": [
    "df[['Gender','Ever_Married','Graduated','Profession','Work_Experience','Spending_Score','Family_Size','Var_1', 'Segmentation']] = df[['Gender','Ever_Married','Graduated','Profession','Work_Experience','Spending_Score','Family_Size','Var_1', 'Segmentation']].astype(int)"
   ]
  },
  {
   "cell_type": "code",
   "execution_count": 12,
   "id": "d1296392-c5ad-4a85-aab8-13edb4355020",
   "metadata": {},
   "outputs": [
    {
     "data": {
      "text/html": [
       "<div>\n",
       "<style scoped>\n",
       "    .dataframe tbody tr th:only-of-type {\n",
       "        vertical-align: middle;\n",
       "    }\n",
       "\n",
       "    .dataframe tbody tr th {\n",
       "        vertical-align: top;\n",
       "    }\n",
       "\n",
       "    .dataframe thead th {\n",
       "        text-align: right;\n",
       "    }\n",
       "</style>\n",
       "<table border=\"1\" class=\"dataframe\">\n",
       "  <thead>\n",
       "    <tr style=\"text-align: right;\">\n",
       "      <th></th>\n",
       "      <th>Gender</th>\n",
       "      <th>Ever_Married</th>\n",
       "      <th>Age</th>\n",
       "      <th>Graduated</th>\n",
       "      <th>Profession</th>\n",
       "      <th>Work_Experience</th>\n",
       "      <th>Spending_Score</th>\n",
       "      <th>Family_Size</th>\n",
       "      <th>Var_1</th>\n",
       "      <th>Segmentation</th>\n",
       "    </tr>\n",
       "  </thead>\n",
       "  <tbody>\n",
       "    <tr>\n",
       "      <th>0</th>\n",
       "      <td>1</td>\n",
       "      <td>0</td>\n",
       "      <td>22</td>\n",
       "      <td>0</td>\n",
       "      <td>5</td>\n",
       "      <td>1</td>\n",
       "      <td>2</td>\n",
       "      <td>4</td>\n",
       "      <td>3</td>\n",
       "      <td>3</td>\n",
       "    </tr>\n",
       "    <tr>\n",
       "      <th>1</th>\n",
       "      <td>0</td>\n",
       "      <td>1</td>\n",
       "      <td>38</td>\n",
       "      <td>1</td>\n",
       "      <td>2</td>\n",
       "      <td>2</td>\n",
       "      <td>0</td>\n",
       "      <td>3</td>\n",
       "      <td>3</td>\n",
       "      <td>0</td>\n",
       "    </tr>\n",
       "    <tr>\n",
       "      <th>2</th>\n",
       "      <td>0</td>\n",
       "      <td>1</td>\n",
       "      <td>67</td>\n",
       "      <td>1</td>\n",
       "      <td>2</td>\n",
       "      <td>1</td>\n",
       "      <td>2</td>\n",
       "      <td>1</td>\n",
       "      <td>5</td>\n",
       "      <td>1</td>\n",
       "    </tr>\n",
       "    <tr>\n",
       "      <th>3</th>\n",
       "      <td>1</td>\n",
       "      <td>1</td>\n",
       "      <td>67</td>\n",
       "      <td>1</td>\n",
       "      <td>7</td>\n",
       "      <td>0</td>\n",
       "      <td>1</td>\n",
       "      <td>2</td>\n",
       "      <td>5</td>\n",
       "      <td>1</td>\n",
       "    </tr>\n",
       "    <tr>\n",
       "      <th>4</th>\n",
       "      <td>0</td>\n",
       "      <td>1</td>\n",
       "      <td>40</td>\n",
       "      <td>1</td>\n",
       "      <td>3</td>\n",
       "      <td>2</td>\n",
       "      <td>1</td>\n",
       "      <td>6</td>\n",
       "      <td>5</td>\n",
       "      <td>0</td>\n",
       "    </tr>\n",
       "  </tbody>\n",
       "</table>\n",
       "</div>"
      ],
      "text/plain": [
       "   Gender  Ever_Married  Age  Graduated  Profession  Work_Experience  \\\n",
       "0       1             0   22          0           5                1   \n",
       "1       0             1   38          1           2                2   \n",
       "2       0             1   67          1           2                1   \n",
       "3       1             1   67          1           7                0   \n",
       "4       0             1   40          1           3                2   \n",
       "\n",
       "   Spending_Score  Family_Size  Var_1  Segmentation  \n",
       "0               2            4      3             3  \n",
       "1               0            3      3             0  \n",
       "2               2            1      5             1  \n",
       "3               1            2      5             1  \n",
       "4               1            6      5             0  "
      ]
     },
     "execution_count": 12,
     "metadata": {},
     "output_type": "execute_result"
    }
   ],
   "source": [
    "df.head()"
   ]
  },
  {
   "cell_type": "markdown",
   "id": "27acb6ba-76ad-4b09-832e-b3e53ce952b4",
   "metadata": {},
   "source": [
    "## Membuat Model DNN\n",
    "---\n",
    "### Split Dataset Menjadi Train dan Test"
   ]
  },
  {
   "cell_type": "code",
   "execution_count": 13,
   "id": "d92c734d-058b-44c9-a457-bdf7bc637560",
   "metadata": {},
   "outputs": [],
   "source": [
    "from sklearn.model_selection import train_test_split"
   ]
  },
  {
   "cell_type": "code",
   "execution_count": 14,
   "id": "478a29f3-7a0f-4b41-ae1e-95d1c6bb6aaf",
   "metadata": {},
   "outputs": [],
   "source": [
    "X = df.iloc[:, :-1]\n",
    "y = df.iloc[:, -1]\n",
    "X_train, X_test, y_train, y_test = train_test_split(X, y, test_size=0.2, random_state = 42)"
   ]
  },
  {
   "cell_type": "markdown",
   "id": "0dc01215-8df0-4782-a8b1-75660ffea892",
   "metadata": {},
   "source": [
    "### Sequential Model"
   ]
  },
  {
   "cell_type": "markdown",
   "id": "5c9280e7-5392-42fe-88e5-f12cc809e460",
   "metadata": {},
   "source": [
    "- Import library"
   ]
  },
  {
   "cell_type": "code",
   "execution_count": 15,
   "id": "08f316c4-a263-42c0-8848-3033a242874b",
   "metadata": {},
   "outputs": [],
   "source": [
    "import tensorflow as tf\n",
    "from keras import Sequential, layers"
   ]
  },
  {
   "cell_type": "markdown",
   "id": "6096e1d4-d2f4-4998-9a7e-f6837e639032",
   "metadata": {},
   "source": [
    "- Melihat jumlah baris dan kolom pada feature"
   ]
  },
  {
   "cell_type": "code",
   "execution_count": 16,
   "id": "51524328-cbf9-4923-8c1c-a8a8e8a26912",
   "metadata": {},
   "outputs": [
    {
     "data": {
      "text/plain": [
       "(10657, 9)"
      ]
     },
     "execution_count": 16,
     "metadata": {},
     "output_type": "execute_result"
    }
   ],
   "source": [
    "X.shape"
   ]
  },
  {
   "cell_type": "markdown",
   "id": "5d397819-9f7e-448c-90da-ece64a65e695",
   "metadata": {},
   "source": [
    "- Melihat nilai unik pada target"
   ]
  },
  {
   "cell_type": "code",
   "execution_count": 17,
   "id": "277c18cf-fbc3-48ae-a6e5-817283fe1ae1",
   "metadata": {},
   "outputs": [
    {
     "data": {
      "text/plain": [
       "array([3, 0, 1, 2])"
      ]
     },
     "execution_count": 17,
     "metadata": {},
     "output_type": "execute_result"
    }
   ],
   "source": [
    "y.unique()"
   ]
  },
  {
   "cell_type": "markdown",
   "id": "9936b4e6-92dd-4096-b06f-289191a7284c",
   "metadata": {},
   "source": [
    "- Membuat Sequential model"
   ]
  },
  {
   "cell_type": "code",
   "execution_count": 18,
   "id": "e4531dd1-3fa9-4bcb-989a-eae9d3f57462",
   "metadata": {},
   "outputs": [],
   "source": [
    "model = Sequential([\n",
    "    layers.Dense(16, activation = 'relu', input_shape= [9]),\n",
    "    layers.Dense(32, activation = 'relu'),\n",
    "    layers.Dense(4, activation = 'softmax'),\n",
    "])"
   ]
  },
  {
   "cell_type": "markdown",
   "id": "18bd5951-60b1-4089-b885-7919275c57ff",
   "metadata": {},
   "source": [
    "- Menampilkan detail parameter pada setiap layer"
   ]
  },
  {
   "cell_type": "code",
   "execution_count": 19,
   "id": "dffde728-2cca-40b2-aa90-396d9f472f75",
   "metadata": {},
   "outputs": [
    {
     "name": "stdout",
     "output_type": "stream",
     "text": [
      "Model: \"sequential\"\n",
      "_________________________________________________________________\n",
      " Layer (type)                Output Shape              Param #   \n",
      "=================================================================\n",
      " dense (Dense)               (None, 16)                160       \n",
      "                                                                 \n",
      " dense_1 (Dense)             (None, 32)                544       \n",
      "                                                                 \n",
      " dense_2 (Dense)             (None, 4)                 132       \n",
      "                                                                 \n",
      "=================================================================\n",
      "Total params: 836 (3.27 KB)\n",
      "Trainable params: 836 (3.27 KB)\n",
      "Non-trainable params: 0 (0.00 Byte)\n",
      "_________________________________________________________________\n"
     ]
    }
   ],
   "source": [
    "model.summary()"
   ]
  },
  {
   "cell_type": "markdown",
   "id": "12a3270e-4126-4a6d-b5d8-81dd85e74f46",
   "metadata": {},
   "source": [
    "### Melakukan Compile Model"
   ]
  },
  {
   "cell_type": "code",
   "execution_count": 20,
   "id": "b9c75b08-0f61-483d-aa69-2bfe05bfb84b",
   "metadata": {},
   "outputs": [],
   "source": [
    "model.compile(optimizer = 'adam',\n",
    "            loss = 'sparse_categorical_crossentropy',\n",
    "            metrics = ['accuracy'])"
   ]
  },
  {
   "cell_type": "markdown",
   "id": "508f3a1f-ea84-4a78-b98a-e57cd47c3479",
   "metadata": {},
   "source": [
    "### Melakukan Fit Model"
   ]
  },
  {
   "cell_type": "markdown",
   "id": "c67b62f4-60db-4588-ba5e-1bc6e264153a",
   "metadata": {},
   "source": [
    "- Membuat fungsi callbacks"
   ]
  },
  {
   "cell_type": "code",
   "execution_count": 21,
   "id": "aaf8e760-2e05-491c-bba7-055d6a2c1ec4",
   "metadata": {},
   "outputs": [],
   "source": [
    "callback = tf.keras.callbacks.EarlyStopping(monitor='val_accuracy', patience=4)"
   ]
  },
  {
   "cell_type": "markdown",
   "id": "1951efab-1059-4116-88b4-9bedd27e8cec",
   "metadata": {},
   "source": [
    "- Fit model"
   ]
  },
  {
   "cell_type": "code",
   "execution_count": 22,
   "id": "efdee2c2-9932-493d-9163-e6bb839ee7a3",
   "metadata": {},
   "outputs": [
    {
     "name": "stdout",
     "output_type": "stream",
     "text": [
      "Epoch 1/100\n",
      "134/134 [==============================] - 3s 9ms/step - loss: 1.5551 - accuracy: 0.3062 - val_loss: 1.2976 - val_accuracy: 0.3668\n",
      "Epoch 2/100\n",
      "134/134 [==============================] - 1s 5ms/step - loss: 1.2840 - accuracy: 0.3893 - val_loss: 1.2585 - val_accuracy: 0.4029\n",
      "Epoch 3/100\n",
      "134/134 [==============================] - 1s 5ms/step - loss: 1.2562 - accuracy: 0.4208 - val_loss: 1.2330 - val_accuracy: 0.4456\n",
      "Epoch 4/100\n",
      "134/134 [==============================] - 1s 5ms/step - loss: 1.2399 - accuracy: 0.4355 - val_loss: 1.2208 - val_accuracy: 0.4367\n",
      "Epoch 5/100\n",
      "134/134 [==============================] - 1s 5ms/step - loss: 1.2344 - accuracy: 0.4339 - val_loss: 1.2106 - val_accuracy: 0.4583\n",
      "Epoch 6/100\n",
      "134/134 [==============================] - 1s 5ms/step - loss: 1.2282 - accuracy: 0.4382 - val_loss: 1.2296 - val_accuracy: 0.4207\n",
      "Epoch 7/100\n",
      "134/134 [==============================] - 1s 5ms/step - loss: 1.2292 - accuracy: 0.4412 - val_loss: 1.2062 - val_accuracy: 0.4629\n",
      "Epoch 8/100\n",
      "134/134 [==============================] - 1s 5ms/step - loss: 1.2248 - accuracy: 0.4415 - val_loss: 1.2046 - val_accuracy: 0.4583\n",
      "Epoch 9/100\n",
      "134/134 [==============================] - 1s 5ms/step - loss: 1.2218 - accuracy: 0.4445 - val_loss: 1.2081 - val_accuracy: 0.4489\n",
      "Epoch 10/100\n",
      "134/134 [==============================] - 1s 6ms/step - loss: 1.2177 - accuracy: 0.4479 - val_loss: 1.2074 - val_accuracy: 0.4550\n",
      "Epoch 11/100\n",
      "134/134 [==============================] - 1s 5ms/step - loss: 1.2170 - accuracy: 0.4556 - val_loss: 1.2026 - val_accuracy: 0.4653\n",
      "Epoch 12/100\n",
      "134/134 [==============================] - 1s 5ms/step - loss: 1.2143 - accuracy: 0.4480 - val_loss: 1.2014 - val_accuracy: 0.4672\n",
      "Epoch 13/100\n",
      "134/134 [==============================] - 1s 5ms/step - loss: 1.2159 - accuracy: 0.4493 - val_loss: 1.1991 - val_accuracy: 0.4629\n",
      "Epoch 14/100\n",
      "134/134 [==============================] - 1s 5ms/step - loss: 1.2157 - accuracy: 0.4500 - val_loss: 1.2024 - val_accuracy: 0.4606\n",
      "Epoch 15/100\n",
      "134/134 [==============================] - 1s 5ms/step - loss: 1.2139 - accuracy: 0.4507 - val_loss: 1.2040 - val_accuracy: 0.4568\n",
      "Epoch 16/100\n",
      "134/134 [==============================] - 1s 4ms/step - loss: 1.2139 - accuracy: 0.4529 - val_loss: 1.2007 - val_accuracy: 0.4625\n"
     ]
    }
   ],
   "source": [
    "history = model.fit(X_train, y_train, batch_size=64, epochs=100, verbose=1, callbacks=[callback], validation_data=(X_test, y_test))"
   ]
  },
  {
   "cell_type": "markdown",
   "id": "132911c9-9fba-4fab-9a52-67f01a316f04",
   "metadata": {},
   "source": [
    "### Melakukan Evaluasi Model"
   ]
  },
  {
   "cell_type": "code",
   "execution_count": 23,
   "id": "6218a489-dfe3-4d3c-aa63-f15f4f7f5187",
   "metadata": {},
   "outputs": [
    {
     "name": "stdout",
     "output_type": "stream",
     "text": [
      "67/67 [==============================] - 0s 3ms/step - loss: 1.2007 - accuracy: 0.4625\n"
     ]
    },
    {
     "data": {
      "text/plain": [
       "[1.2006994485855103, 0.46247655153274536]"
      ]
     },
     "execution_count": 23,
     "metadata": {},
     "output_type": "execute_result"
    }
   ],
   "source": [
    "model.evaluate(X_test, y_test)"
   ]
  },
  {
   "cell_type": "markdown",
   "id": "01d3efbd-3457-4106-9fbf-ff5abaa5bb7d",
   "metadata": {},
   "source": [
    "### Menampilkan grafik pergerakan metrik akurasi dan loss terhadap epoch"
   ]
  },
  {
   "cell_type": "markdown",
   "id": "3d4af14e-427b-4fcf-95ce-32c591e0e65b",
   "metadata": {},
   "source": [
    "- Import library"
   ]
  },
  {
   "cell_type": "code",
   "execution_count": 24,
   "id": "232f1bfc-b034-443f-bfcc-005b4fbfa2cc",
   "metadata": {},
   "outputs": [],
   "source": [
    "import matplotlib.pyplot as plt"
   ]
  },
  {
   "cell_type": "markdown",
   "id": "a7b51fb8-1bd9-4217-937e-ad44c8deb89f",
   "metadata": {},
   "source": [
    "- Menampilkan grafik pergerakan metrik akurasi terhadap epoch"
   ]
  },
  {
   "cell_type": "code",
   "execution_count": 25,
   "id": "63ed9c43-2b38-487e-bed7-e83e07967d24",
   "metadata": {},
   "outputs": [
    {
     "data": {
      "image/png": "[encoded data removed]",
      "text/plain": [
       "<Figure size 640x480 with 1 Axes>"
      ]
     },
     "metadata": {},
     "output_type": "display_data"
    }
   ],
   "source": [
    "plt.plot(history.history['accuracy'])\n",
    "plt.plot(history.history['val_accuracy'])\n",
    "plt.title('Model Accuracy')\n",
    "plt.ylabel('Accuracy')\n",
    "plt.xlabel('Epoch')\n",
    "plt.legend(['Train', 'Test'], loc='upper left')\n",
    "plt.show()"
   ]
  },
  {
   "cell_type": "markdown",
   "id": "9523f31d-78c4-4692-927b-985e16ae1cc5",
   "metadata": {},
   "source": [
    "- Menampilkan grafik pergerakan metrik loss terhadap epoch"
   ]
  },
  {
   "cell_type": "code",
   "execution_count": 26,
   "id": "91c4e5ef-bbf9-4a20-bcff-19a83ebd9040",
   "metadata": {},
   "outputs": [
    {
     "data": {
      "image/png": "[encoded data removed]",
      "text/plain": [
       "<Figure size 640x480 with 1 Axes>"
      ]
     },
     "metadata": {},
     "output_type": "display_data"
    }
   ],
   "source": [
    "plt.plot(history.history['loss'])\n",
    "plt.plot(history.history['val_loss'])\n",
    "plt.title('Model Loss')\n",
    "plt.ylabel('Loss')\n",
    "plt.xlabel('Epoch')\n",
    "plt.legend(['Train', 'Test'], loc='upper right')\n",
    "plt.show()"
   ]
  }
 ],
 "metadata": {
  "kernelspec": {
   "display_name": "Zahra_063",
   "language": "python",
   "name": "zahra_063"
  },
  "language_info": {
   "codemirror_mode": {
    "name": "ipython",
    "version": 3
   },
   "file_extension": ".py",
   "mimetype": "text/x-python",
   "name": "python",
   "nbconvert_exporter": "python",
   "pygments_lexer": "ipython3",
   "version": "3.10.7"
  }
 },
 "nbformat": 4,
 "nbformat_minor": 5
}
