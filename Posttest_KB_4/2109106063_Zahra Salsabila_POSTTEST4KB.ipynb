{
 "cells": [
  {
   "cell_type": "markdown",
   "id": "39effd03-5863-4961-9fa5-eb4f55db086c",
   "metadata": {},
   "source": [
    "# POSTTEST 4 Praktikum Kecerdasan Buatan\n",
    "---\n",
    "*2109106063* - Zahra Salsabila - B121"
   ]
  },
  {
   "cell_type": "code",
   "execution_count": 1,
   "id": "2377b980-5dea-428a-9ad2-d528d611b11f",
   "metadata": {},
   "outputs": [],
   "source": [
    "import pandas as pd\n",
    "import numpy as np\n",
    "from sklearn.impute import SimpleImputer\n",
    "from sklearn.model_selection import train_test_split\n",
    "from sklearn.preprocessing import MinMaxScaler\n",
    "from sklearn.preprocessing import OrdinalEncoder, OneHotEncoder\n",
    "from sklearn.preprocessing import StandardScaler"
   ]
  },
  {
   "cell_type": "markdown",
   "id": "4166f79a-dde8-4159-aa1c-58c35859e17d",
   "metadata": {},
   "source": [
    "### Melihat Data Sebelum Dilakukan *Data Processing*"
   ]
  },
  {
   "cell_type": "code",
   "execution_count": 2,
   "id": "a38d7d70-14a1-480c-bda5-61db9b859553",
   "metadata": {},
   "outputs": [
    {
     "data": {
      "text/html": [
       "<div>\n",
       "<style scoped>\n",
       "    .dataframe tbody tr th:only-of-type {\n",
       "        vertical-align: middle;\n",
       "    }\n",
       "\n",
       "    .dataframe tbody tr th {\n",
       "        vertical-align: top;\n",
       "    }\n",
       "\n",
       "    .dataframe thead th {\n",
       "        text-align: right;\n",
       "    }\n",
       "</style>\n",
       "<table border=\"1\" class=\"dataframe\">\n",
       "  <thead>\n",
       "    <tr style=\"text-align: right;\">\n",
       "      <th></th>\n",
       "      <th>ID</th>\n",
       "      <th>Gender</th>\n",
       "      <th>Ever_Married</th>\n",
       "      <th>Age</th>\n",
       "      <th>Graduated</th>\n",
       "      <th>Profession</th>\n",
       "      <th>Work_Experience</th>\n",
       "      <th>Spending_Score</th>\n",
       "      <th>Family_Size</th>\n",
       "      <th>Var_1</th>\n",
       "      <th>Segmentation</th>\n",
       "    </tr>\n",
       "  </thead>\n",
       "  <tbody>\n",
       "    <tr>\n",
       "      <th>0</th>\n",
       "      <td>458989</td>\n",
       "      <td>Female</td>\n",
       "      <td>Yes</td>\n",
       "      <td>36</td>\n",
       "      <td>Yes</td>\n",
       "      <td>Engineer</td>\n",
       "      <td>0.0</td>\n",
       "      <td>Low</td>\n",
       "      <td>1.0</td>\n",
       "      <td>Cat_6</td>\n",
       "      <td>B</td>\n",
       "    </tr>\n",
       "    <tr>\n",
       "      <th>1</th>\n",
       "      <td>458994</td>\n",
       "      <td>Male</td>\n",
       "      <td>Yes</td>\n",
       "      <td>37</td>\n",
       "      <td>Yes</td>\n",
       "      <td>Healthcare</td>\n",
       "      <td>8.0</td>\n",
       "      <td>Average</td>\n",
       "      <td>4.0</td>\n",
       "      <td>Cat_6</td>\n",
       "      <td>A</td>\n",
       "    </tr>\n",
       "    <tr>\n",
       "      <th>2</th>\n",
       "      <td>458996</td>\n",
       "      <td>Female</td>\n",
       "      <td>Yes</td>\n",
       "      <td>69</td>\n",
       "      <td>No</td>\n",
       "      <td>NaN</td>\n",
       "      <td>0.0</td>\n",
       "      <td>Low</td>\n",
       "      <td>1.0</td>\n",
       "      <td>Cat_6</td>\n",
       "      <td>A</td>\n",
       "    </tr>\n",
       "    <tr>\n",
       "      <th>3</th>\n",
       "      <td>459000</td>\n",
       "      <td>Male</td>\n",
       "      <td>Yes</td>\n",
       "      <td>59</td>\n",
       "      <td>No</td>\n",
       "      <td>Executive</td>\n",
       "      <td>11.0</td>\n",
       "      <td>High</td>\n",
       "      <td>2.0</td>\n",
       "      <td>Cat_6</td>\n",
       "      <td>B</td>\n",
       "    </tr>\n",
       "    <tr>\n",
       "      <th>4</th>\n",
       "      <td>459001</td>\n",
       "      <td>Female</td>\n",
       "      <td>No</td>\n",
       "      <td>19</td>\n",
       "      <td>No</td>\n",
       "      <td>Marketing</td>\n",
       "      <td>NaN</td>\n",
       "      <td>Low</td>\n",
       "      <td>4.0</td>\n",
       "      <td>Cat_6</td>\n",
       "      <td>A</td>\n",
       "    </tr>\n",
       "  </tbody>\n",
       "</table>\n",
       "</div>"
      ],
      "text/plain": [
       "       ID  Gender Ever_Married  Age Graduated  Profession  Work_Experience  \\\n",
       "0  458989  Female          Yes   36       Yes    Engineer              0.0   \n",
       "1  458994    Male          Yes   37       Yes  Healthcare              8.0   \n",
       "2  458996  Female          Yes   69        No         NaN              0.0   \n",
       "3  459000    Male          Yes   59        No   Executive             11.0   \n",
       "4  459001  Female           No   19        No   Marketing              NaN   \n",
       "\n",
       "  Spending_Score  Family_Size  Var_1 Segmentation  \n",
       "0            Low          1.0  Cat_6            B  \n",
       "1        Average          4.0  Cat_6            A  \n",
       "2            Low          1.0  Cat_6            A  \n",
       "3           High          2.0  Cat_6            B  \n",
       "4            Low          4.0  Cat_6            A  "
      ]
     },
     "execution_count": 2,
     "metadata": {},
     "output_type": "execute_result"
    }
   ],
   "source": [
    "df = pd.read_csv(\"Test.csv\")\n",
    "df.head()"
   ]
  },
  {
   "cell_type": "markdown",
   "id": "4f636f4c-c25e-4af4-8bf0-d6733f58cde8",
   "metadata": {},
   "source": [
    "### Melakukan *Data Cleaning* Pada Data"
   ]
  },
  {
   "cell_type": "markdown",
   "id": "7c75b5ba-7520-4ffd-8b1d-87f4c8fa34e4",
   "metadata": {},
   "source": [
    "- #### Melihat attribut data dengan nilai null"
   ]
  },
  {
   "cell_type": "code",
   "execution_count": 3,
   "id": "d03f7dfc-883f-45ea-b247-4b3f4b2f6c5f",
   "metadata": {},
   "outputs": [
    {
     "data": {
      "text/plain": [
       "ID                   0\n",
       "Gender               0\n",
       "Ever_Married        50\n",
       "Age                  0\n",
       "Graduated           24\n",
       "Profession          38\n",
       "Work_Experience    269\n",
       "Spending_Score       0\n",
       "Family_Size        113\n",
       "Var_1               32\n",
       "Segmentation         0\n",
       "dtype: int64"
      ]
     },
     "execution_count": 3,
     "metadata": {},
     "output_type": "execute_result"
    }
   ],
   "source": [
    "df.isnull().sum()"
   ]
  },
  {
   "cell_type": "markdown",
   "id": "e1a73698-7b17-4936-bf68-f3855ebfba50",
   "metadata": {},
   "source": [
    "Dari data di atas, dapat diketahui bahwa nilai null terdapat pada attribut **Ever_Married** dengan tipe data text, **Graduated** dengan tipe data text, **Profession** dengan tipe data text, **Work_Experience** dengan tipe data float, **Family_Size** dengan tipe data float, dan **Var_1** dengan tipe data text."
   ]
  },
  {
   "cell_type": "markdown",
   "id": "0cdd8414-9d52-4022-b984-b10751d74d52",
   "metadata": {},
   "source": [
    "- #### Mengganti nilai null pada attribut bertipe data float (Work_Experience & Family_Size) dengan nilai mean"
   ]
  },
  {
   "cell_type": "code",
   "execution_count": 13,
   "id": "6123c49c-f368-4db7-9371-645414c03fdc",
   "metadata": {},
   "outputs": [],
   "source": [
    "# Membuat imputer untuk mengganti nilai null pada attribut dengan nilai mean\n",
    "float_imputer = SimpleImputer(missing_values = pd.NA, strategy = 'mean')\n",
    "df[['Work_Experience', 'Family_Size']] = float_imputer.fit_transform(df[['Work_Experience', 'Family_Size']])"
   ]
  },
  {
   "cell_type": "code",
   "execution_count": 14,
   "id": "6a2af4db-d80f-4868-8462-be745f901edc",
   "metadata": {},
   "outputs": [
    {
     "data": {
      "text/plain": [
       "ID                  0\n",
       "Gender              0\n",
       "Ever_Married       50\n",
       "Age                 0\n",
       "Graduated          24\n",
       "Profession         38\n",
       "Work_Experience     0\n",
       "Spending_Score      0\n",
       "Family_Size         0\n",
       "Var_1              32\n",
       "Segmentation        0\n",
       "dtype: int64"
      ]
     },
     "execution_count": 14,
     "metadata": {},
     "output_type": "execute_result"
    }
   ],
   "source": [
    "df.isnull().sum()"
   ]
  },
  {
   "cell_type": "markdown",
   "id": "0eb323ca-f831-4472-88ce-62e74c0961b9",
   "metadata": {},
   "source": [
    "- #### Mengganti nilai null pada attribut bertipe data text (Ever_Married, Graduated, Profession, & Var_1) dengan nilai modus "
   ]
  },
  {
   "cell_type": "code",
   "execution_count": 15,
   "id": "255d6fd5-f6e1-47c7-a51c-95c4f3b28005",
   "metadata": {},
   "outputs": [],
   "source": [
    "# Membuat imputer untuk mengganti nilai null pada attribut dengan nilai modus\n",
    "text_imputer = SimpleImputer(missing_values = pd.NA, strategy = 'most_frequent')\n",
    "df[['Ever_Married', 'Graduated', 'Profession', 'Var_1']] = text_imputer.fit_transform(df[['Ever_Married', 'Graduated', 'Profession', 'Var_1']])"
   ]
  },
  {
   "cell_type": "code",
   "execution_count": 16,
   "id": "ab16e328-af62-4d05-b7db-fb584ca075ac",
   "metadata": {},
   "outputs": [
    {
     "data": {
      "text/plain": [
       "ID                 0\n",
       "Gender             0\n",
       "Ever_Married       0\n",
       "Age                0\n",
       "Graduated          0\n",
       "Profession         0\n",
       "Work_Experience    0\n",
       "Spending_Score     0\n",
       "Family_Size        0\n",
       "Var_1              0\n",
       "Segmentation       0\n",
       "dtype: int64"
      ]
     },
     "execution_count": 16,
     "metadata": {},
     "output_type": "execute_result"
    }
   ],
   "source": [
    "df.isnull().sum()"
   ]
  },
  {
   "cell_type": "markdown",
   "id": "a67ce089-91e6-4fce-8b93-ca8ef71d4ce1",
   "metadata": {},
   "source": [
    "- #### Melihat nilai duplikat pada data"
   ]
  },
  {
   "cell_type": "code",
   "execution_count": 17,
   "id": "c64e7842-48be-4a03-9041-fbffefc379e5",
   "metadata": {},
   "outputs": [
    {
     "name": "stdout",
     "output_type": "stream",
     "text": [
      "Jumlah nilai duplikat pada data: \n"
     ]
    },
    {
     "data": {
      "text/plain": [
       "7"
      ]
     },
     "execution_count": 17,
     "metadata": {},
     "output_type": "execute_result"
    }
   ],
   "source": [
    "print('Jumlah nilai duplikat pada data: ')\n",
    "df.duplicated().sum()"
   ]
  },
  {
   "cell_type": "markdown",
   "id": "1418a6b9-ef79-49bd-bab1-d387398daac6",
   "metadata": {},
   "source": [
    "- #### Menghapus nilai duplikat pada data"
   ]
  },
  {
   "cell_type": "code",
   "execution_count": 18,
   "id": "5b168421-94cd-45d5-ad8e-7e00a3d301f9",
   "metadata": {},
   "outputs": [],
   "source": [
    "df.drop_duplicates(inplace=True)"
   ]
  },
  {
   "cell_type": "code",
   "execution_count": 19,
   "id": "175353e0-80ef-4b87-9ec1-da7450ed6f60",
   "metadata": {},
   "outputs": [
    {
     "name": "stdout",
     "output_type": "stream",
     "text": [
      "Jumlah nilai duplikat pada data sekarang: \n"
     ]
    },
    {
     "data": {
      "text/plain": [
       "0"
      ]
     },
     "execution_count": 19,
     "metadata": {},
     "output_type": "execute_result"
    }
   ],
   "source": [
    "print('Jumlah nilai duplikat pada data sekarang: ')\n",
    "df.duplicated().sum()"
   ]
  },
  {
   "cell_type": "markdown",
   "id": "078c95b5-ef52-4d0e-b97d-ad1b371e09f5",
   "metadata": {},
   "source": [
    "### Membagi Dataset Menjadi *Training Set* dan *Testing Set* dengan proporsi 70:30 "
   ]
  },
  {
   "cell_type": "markdown",
   "id": "5e47daa4-cbfb-4519-b001-f24daf8bb09a",
   "metadata": {},
   "source": [
    "- #### Memisahkan X dan Y  "
   ]
  },
  {
   "cell_type": "code",
   "execution_count": 20,
   "id": "ab96b57d-0661-4caa-9d14-4e9f1cc30779",
   "metadata": {},
   "outputs": [],
   "source": [
    "X = df.iloc[:, :-1]\n",
    "y = df.iloc[:, -1]"
   ]
  },
  {
   "cell_type": "code",
   "execution_count": 21,
   "id": "15a52781-f4a6-4a64-858c-b2125f6d700f",
   "metadata": {},
   "outputs": [
    {
     "data": {
      "text/html": [
       "<div>\n",
       "<style scoped>\n",
       "    .dataframe tbody tr th:only-of-type {\n",
       "        vertical-align: middle;\n",
       "    }\n",
       "\n",
       "    .dataframe tbody tr th {\n",
       "        vertical-align: top;\n",
       "    }\n",
       "\n",
       "    .dataframe thead th {\n",
       "        text-align: right;\n",
       "    }\n",
       "</style>\n",
       "<table border=\"1\" class=\"dataframe\">\n",
       "  <thead>\n",
       "    <tr style=\"text-align: right;\">\n",
       "      <th></th>\n",
       "      <th>ID</th>\n",
       "      <th>Gender</th>\n",
       "      <th>Ever_Married</th>\n",
       "      <th>Age</th>\n",
       "      <th>Graduated</th>\n",
       "      <th>Profession</th>\n",
       "      <th>Work_Experience</th>\n",
       "      <th>Spending_Score</th>\n",
       "      <th>Family_Size</th>\n",
       "      <th>Var_1</th>\n",
       "    </tr>\n",
       "  </thead>\n",
       "  <tbody>\n",
       "    <tr>\n",
       "      <th>0</th>\n",
       "      <td>458989</td>\n",
       "      <td>Female</td>\n",
       "      <td>Yes</td>\n",
       "      <td>36</td>\n",
       "      <td>Yes</td>\n",
       "      <td>Engineer</td>\n",
       "      <td>0.000000</td>\n",
       "      <td>Low</td>\n",
       "      <td>1.0</td>\n",
       "      <td>Cat_6</td>\n",
       "    </tr>\n",
       "    <tr>\n",
       "      <th>1</th>\n",
       "      <td>458994</td>\n",
       "      <td>Male</td>\n",
       "      <td>Yes</td>\n",
       "      <td>37</td>\n",
       "      <td>Yes</td>\n",
       "      <td>Healthcare</td>\n",
       "      <td>8.000000</td>\n",
       "      <td>Average</td>\n",
       "      <td>4.0</td>\n",
       "      <td>Cat_6</td>\n",
       "    </tr>\n",
       "    <tr>\n",
       "      <th>2</th>\n",
       "      <td>458996</td>\n",
       "      <td>Female</td>\n",
       "      <td>Yes</td>\n",
       "      <td>69</td>\n",
       "      <td>No</td>\n",
       "      <td>Artist</td>\n",
       "      <td>0.000000</td>\n",
       "      <td>Low</td>\n",
       "      <td>1.0</td>\n",
       "      <td>Cat_6</td>\n",
       "    </tr>\n",
       "    <tr>\n",
       "      <th>3</th>\n",
       "      <td>459000</td>\n",
       "      <td>Male</td>\n",
       "      <td>Yes</td>\n",
       "      <td>59</td>\n",
       "      <td>No</td>\n",
       "      <td>Executive</td>\n",
       "      <td>11.000000</td>\n",
       "      <td>High</td>\n",
       "      <td>2.0</td>\n",
       "      <td>Cat_6</td>\n",
       "    </tr>\n",
       "    <tr>\n",
       "      <th>4</th>\n",
       "      <td>459001</td>\n",
       "      <td>Female</td>\n",
       "      <td>No</td>\n",
       "      <td>19</td>\n",
       "      <td>No</td>\n",
       "      <td>Marketing</td>\n",
       "      <td>2.553911</td>\n",
       "      <td>Low</td>\n",
       "      <td>4.0</td>\n",
       "      <td>Cat_6</td>\n",
       "    </tr>\n",
       "    <tr>\n",
       "      <th>...</th>\n",
       "      <td>...</td>\n",
       "      <td>...</td>\n",
       "      <td>...</td>\n",
       "      <td>...</td>\n",
       "      <td>...</td>\n",
       "      <td>...</td>\n",
       "      <td>...</td>\n",
       "      <td>...</td>\n",
       "      <td>...</td>\n",
       "      <td>...</td>\n",
       "    </tr>\n",
       "    <tr>\n",
       "      <th>2622</th>\n",
       "      <td>467954</td>\n",
       "      <td>Male</td>\n",
       "      <td>No</td>\n",
       "      <td>29</td>\n",
       "      <td>No</td>\n",
       "      <td>Healthcare</td>\n",
       "      <td>9.000000</td>\n",
       "      <td>Low</td>\n",
       "      <td>4.0</td>\n",
       "      <td>Cat_6</td>\n",
       "    </tr>\n",
       "    <tr>\n",
       "      <th>2623</th>\n",
       "      <td>467958</td>\n",
       "      <td>Female</td>\n",
       "      <td>No</td>\n",
       "      <td>35</td>\n",
       "      <td>Yes</td>\n",
       "      <td>Doctor</td>\n",
       "      <td>1.000000</td>\n",
       "      <td>Low</td>\n",
       "      <td>1.0</td>\n",
       "      <td>Cat_6</td>\n",
       "    </tr>\n",
       "    <tr>\n",
       "      <th>2624</th>\n",
       "      <td>467960</td>\n",
       "      <td>Female</td>\n",
       "      <td>No</td>\n",
       "      <td>53</td>\n",
       "      <td>Yes</td>\n",
       "      <td>Entertainment</td>\n",
       "      <td>2.553911</td>\n",
       "      <td>Low</td>\n",
       "      <td>2.0</td>\n",
       "      <td>Cat_6</td>\n",
       "    </tr>\n",
       "    <tr>\n",
       "      <th>2625</th>\n",
       "      <td>467961</td>\n",
       "      <td>Male</td>\n",
       "      <td>Yes</td>\n",
       "      <td>47</td>\n",
       "      <td>Yes</td>\n",
       "      <td>Executive</td>\n",
       "      <td>1.000000</td>\n",
       "      <td>High</td>\n",
       "      <td>5.0</td>\n",
       "      <td>Cat_4</td>\n",
       "    </tr>\n",
       "    <tr>\n",
       "      <th>2626</th>\n",
       "      <td>467968</td>\n",
       "      <td>Female</td>\n",
       "      <td>No</td>\n",
       "      <td>43</td>\n",
       "      <td>Yes</td>\n",
       "      <td>Healthcare</td>\n",
       "      <td>9.000000</td>\n",
       "      <td>Low</td>\n",
       "      <td>3.0</td>\n",
       "      <td>Cat_7</td>\n",
       "    </tr>\n",
       "  </tbody>\n",
       "</table>\n",
       "<p>2627 rows × 10 columns</p>\n",
       "</div>"
      ],
      "text/plain": [
       "          ID  Gender Ever_Married  Age Graduated     Profession  \\\n",
       "0     458989  Female          Yes   36       Yes       Engineer   \n",
       "1     458994    Male          Yes   37       Yes     Healthcare   \n",
       "2     458996  Female          Yes   69        No         Artist   \n",
       "3     459000    Male          Yes   59        No      Executive   \n",
       "4     459001  Female           No   19        No      Marketing   \n",
       "...      ...     ...          ...  ...       ...            ...   \n",
       "2622  467954    Male           No   29        No     Healthcare   \n",
       "2623  467958  Female           No   35       Yes         Doctor   \n",
       "2624  467960  Female           No   53       Yes  Entertainment   \n",
       "2625  467961    Male          Yes   47       Yes      Executive   \n",
       "2626  467968  Female           No   43       Yes     Healthcare   \n",
       "\n",
       "      Work_Experience Spending_Score  Family_Size  Var_1  \n",
       "0            0.000000            Low          1.0  Cat_6  \n",
       "1            8.000000        Average          4.0  Cat_6  \n",
       "2            0.000000            Low          1.0  Cat_6  \n",
       "3           11.000000           High          2.0  Cat_6  \n",
       "4            2.553911            Low          4.0  Cat_6  \n",
       "...               ...            ...          ...    ...  \n",
       "2622         9.000000            Low          4.0  Cat_6  \n",
       "2623         1.000000            Low          1.0  Cat_6  \n",
       "2624         2.553911            Low          2.0  Cat_6  \n",
       "2625         1.000000           High          5.0  Cat_4  \n",
       "2626         9.000000            Low          3.0  Cat_7  \n",
       "\n",
       "[2627 rows x 10 columns]"
      ]
     },
     "execution_count": 21,
     "metadata": {},
     "output_type": "execute_result"
    }
   ],
   "source": [
    "X"
   ]
  },
  {
   "cell_type": "code",
   "execution_count": 22,
   "id": "c5dddaec-ef2c-4397-a818-611840e89ea9",
   "metadata": {},
   "outputs": [
    {
     "data": {
      "text/plain": [
       "0       B\n",
       "1       A\n",
       "2       A\n",
       "3       B\n",
       "4       A\n",
       "       ..\n",
       "2622    B\n",
       "2623    A\n",
       "2624    C\n",
       "2625    C\n",
       "2626    A\n",
       "Name: Segmentation, Length: 2627, dtype: object"
      ]
     },
     "execution_count": 22,
     "metadata": {},
     "output_type": "execute_result"
    }
   ],
   "source": [
    "y"
   ]
  },
  {
   "cell_type": "markdown",
   "id": "95a5945e-3bd2-4f0a-b76a-4e7373fbb404",
   "metadata": {},
   "source": [
    "- #### Split data menjadi *training set* dan *test set* dengan proporsi 70:30"
   ]
  },
  {
   "cell_type": "code",
   "execution_count": 23,
   "id": "1da0c693-2e01-452b-a1da-84dd9bf606e9",
   "metadata": {},
   "outputs": [
    {
     "name": "stdout",
     "output_type": "stream",
     "text": [
      "X_train :  (1838, 10)\n",
      "X_test  :  (789, 10)\n",
      "y_train :  (1838,)\n",
      "y_test  :  (789,)\n"
     ]
    }
   ],
   "source": [
    "X_train,X_test, y_train, y_test = train_test_split(X, y, test_size = 0.3)\n",
    "\n",
    "print('X_train : ', X_train.shape)\n",
    "print('X_test  : ', X_test.shape)\n",
    "print('y_train : ', y_train.shape)\n",
    "print('y_test  : ', y_test.shape)"
   ]
  },
  {
   "cell_type": "markdown",
   "id": "24cab958-2db4-4dbf-9c12-a8a018ea45f2",
   "metadata": {},
   "source": [
    "### Normalisasi Data"
   ]
  },
  {
   "cell_type": "markdown",
   "id": "ae41f817-df55-450c-8e11-91ac7b9c69fe",
   "metadata": {},
   "source": [
    "- Copy Dataset"
   ]
  },
  {
   "cell_type": "code",
   "execution_count": 24,
   "id": "53f2521c-ac0f-4456-8aca-e8abe137f812",
   "metadata": {},
   "outputs": [],
   "source": [
    "df_copy1 = df.copy()"
   ]
  },
  {
   "cell_type": "markdown",
   "id": "c127a825-49bc-4420-8508-decb946438e5",
   "metadata": {},
   "source": [
    "- Melakukan normalisasi data pada attribut Work_Experience menggunakan Min Max Scaler"
   ]
  },
  {
   "cell_type": "code",
   "execution_count": 25,
   "id": "aed5f79f-db54-499d-b5de-8bdff2768adb",
   "metadata": {},
   "outputs": [],
   "source": [
    "scaler = MinMaxScaler()\n",
    "df_copy1['Work_Experience'] = scaler.fit_transform(df_copy1[['Work_Experience']])"
   ]
  },
  {
   "cell_type": "code",
   "execution_count": 26,
   "id": "98a8f674-47e1-41e2-a07a-6db9d64f9bc4",
   "metadata": {},
   "outputs": [
    {
     "data": {
      "text/html": [
       "<div>\n",
       "<style scoped>\n",
       "    .dataframe tbody tr th:only-of-type {\n",
       "        vertical-align: middle;\n",
       "    }\n",
       "\n",
       "    .dataframe tbody tr th {\n",
       "        vertical-align: top;\n",
       "    }\n",
       "\n",
       "    .dataframe thead th {\n",
       "        text-align: right;\n",
       "    }\n",
       "</style>\n",
       "<table border=\"1\" class=\"dataframe\">\n",
       "  <thead>\n",
       "    <tr style=\"text-align: right;\">\n",
       "      <th></th>\n",
       "      <th>Work_Experience</th>\n",
       "    </tr>\n",
       "  </thead>\n",
       "  <tbody>\n",
       "    <tr>\n",
       "      <th>0</th>\n",
       "      <td>0.000000</td>\n",
       "    </tr>\n",
       "    <tr>\n",
       "      <th>1</th>\n",
       "      <td>0.571429</td>\n",
       "    </tr>\n",
       "    <tr>\n",
       "      <th>2</th>\n",
       "      <td>0.000000</td>\n",
       "    </tr>\n",
       "    <tr>\n",
       "      <th>3</th>\n",
       "      <td>0.785714</td>\n",
       "    </tr>\n",
       "    <tr>\n",
       "      <th>4</th>\n",
       "      <td>0.182422</td>\n",
       "    </tr>\n",
       "    <tr>\n",
       "      <th>...</th>\n",
       "      <td>...</td>\n",
       "    </tr>\n",
       "    <tr>\n",
       "      <th>2622</th>\n",
       "      <td>0.642857</td>\n",
       "    </tr>\n",
       "    <tr>\n",
       "      <th>2623</th>\n",
       "      <td>0.071429</td>\n",
       "    </tr>\n",
       "    <tr>\n",
       "      <th>2624</th>\n",
       "      <td>0.182422</td>\n",
       "    </tr>\n",
       "    <tr>\n",
       "      <th>2625</th>\n",
       "      <td>0.071429</td>\n",
       "    </tr>\n",
       "    <tr>\n",
       "      <th>2626</th>\n",
       "      <td>0.642857</td>\n",
       "    </tr>\n",
       "  </tbody>\n",
       "</table>\n",
       "<p>2627 rows × 1 columns</p>\n",
       "</div>"
      ],
      "text/plain": [
       "      Work_Experience\n",
       "0            0.000000\n",
       "1            0.571429\n",
       "2            0.000000\n",
       "3            0.785714\n",
       "4            0.182422\n",
       "...               ...\n",
       "2622         0.642857\n",
       "2623         0.071429\n",
       "2624         0.182422\n",
       "2625         0.071429\n",
       "2626         0.642857\n",
       "\n",
       "[2627 rows x 1 columns]"
      ]
     },
     "execution_count": 26,
     "metadata": {},
     "output_type": "execute_result"
    }
   ],
   "source": [
    "df_copy1[['Work_Experience']]"
   ]
  },
  {
   "cell_type": "markdown",
   "id": "26bf5604-6be1-466b-9f22-96651654da85",
   "metadata": {},
   "source": [
    "### Standarisasi Data"
   ]
  },
  {
   "cell_type": "markdown",
   "id": "5b422a15-9042-441f-b95c-152055cc2db6",
   "metadata": {},
   "source": [
    "- Copy Dataset"
   ]
  },
  {
   "cell_type": "code",
   "execution_count": 27,
   "id": "80c2542e-b7bc-497b-b0bc-d15fb61a0223",
   "metadata": {},
   "outputs": [],
   "source": [
    "df_copy2 = df.copy()"
   ]
  },
  {
   "cell_type": "markdown",
   "id": "d962596e-627d-4912-aed6-5ae2cc074b97",
   "metadata": {},
   "source": [
    "- Standarisasi pada dataset"
   ]
  },
  {
   "cell_type": "code",
   "execution_count": 28,
   "id": "3f02bcac-8495-496b-a3fe-3db1da522b37",
   "metadata": {},
   "outputs": [],
   "source": [
    "ss = StandardScaler()\n",
    "df_copy2[['Age', 'Work_Experience', 'Family_Size']] = ss.fit_transform(df_copy2[['Age', 'Work_Experience', 'Family_Size']])"
   ]
  },
  {
   "cell_type": "code",
   "execution_count": 29,
   "id": "36131ffe-3c53-4b7e-a168-d190f4682c5e",
   "metadata": {},
   "outputs": [
    {
     "data": {
      "text/html": [
       "<div>\n",
       "<style scoped>\n",
       "    .dataframe tbody tr th:only-of-type {\n",
       "        vertical-align: middle;\n",
       "    }\n",
       "\n",
       "    .dataframe tbody tr th {\n",
       "        vertical-align: top;\n",
       "    }\n",
       "\n",
       "    .dataframe thead th {\n",
       "        text-align: right;\n",
       "    }\n",
       "</style>\n",
       "<table border=\"1\" class=\"dataframe\">\n",
       "  <thead>\n",
       "    <tr style=\"text-align: right;\">\n",
       "      <th></th>\n",
       "      <th>Age</th>\n",
       "      <th>Work_Experience</th>\n",
       "      <th>Family_Size</th>\n",
       "    </tr>\n",
       "  </thead>\n",
       "  <tbody>\n",
       "    <tr>\n",
       "      <th>0</th>\n",
       "      <td>-0.450948</td>\n",
       "      <td>-0.806613</td>\n",
       "      <td>-1.202636</td>\n",
       "    </tr>\n",
       "    <tr>\n",
       "      <th>1</th>\n",
       "      <td>-0.391999</td>\n",
       "      <td>1.721238</td>\n",
       "      <td>0.773831</td>\n",
       "    </tr>\n",
       "    <tr>\n",
       "      <th>2</th>\n",
       "      <td>1.494372</td>\n",
       "      <td>-0.806613</td>\n",
       "      <td>-1.202636</td>\n",
       "    </tr>\n",
       "    <tr>\n",
       "      <th>3</th>\n",
       "      <td>0.904881</td>\n",
       "      <td>2.669183</td>\n",
       "      <td>-0.543814</td>\n",
       "    </tr>\n",
       "    <tr>\n",
       "      <th>4</th>\n",
       "      <td>-1.453083</td>\n",
       "      <td>0.000376</td>\n",
       "      <td>0.773831</td>\n",
       "    </tr>\n",
       "    <tr>\n",
       "      <th>...</th>\n",
       "      <td>...</td>\n",
       "      <td>...</td>\n",
       "      <td>...</td>\n",
       "    </tr>\n",
       "    <tr>\n",
       "      <th>2622</th>\n",
       "      <td>-0.863592</td>\n",
       "      <td>2.037220</td>\n",
       "      <td>0.773831</td>\n",
       "    </tr>\n",
       "    <tr>\n",
       "      <th>2623</th>\n",
       "      <td>-0.509897</td>\n",
       "      <td>-0.490631</td>\n",
       "      <td>-1.202636</td>\n",
       "    </tr>\n",
       "    <tr>\n",
       "      <th>2624</th>\n",
       "      <td>0.551187</td>\n",
       "      <td>0.000376</td>\n",
       "      <td>-0.543814</td>\n",
       "    </tr>\n",
       "    <tr>\n",
       "      <th>2625</th>\n",
       "      <td>0.197492</td>\n",
       "      <td>-0.490631</td>\n",
       "      <td>1.432653</td>\n",
       "    </tr>\n",
       "    <tr>\n",
       "      <th>2626</th>\n",
       "      <td>-0.038305</td>\n",
       "      <td>2.037220</td>\n",
       "      <td>0.115009</td>\n",
       "    </tr>\n",
       "  </tbody>\n",
       "</table>\n",
       "<p>2627 rows × 3 columns</p>\n",
       "</div>"
      ],
      "text/plain": [
       "           Age  Work_Experience  Family_Size\n",
       "0    -0.450948        -0.806613    -1.202636\n",
       "1    -0.391999         1.721238     0.773831\n",
       "2     1.494372        -0.806613    -1.202636\n",
       "3     0.904881         2.669183    -0.543814\n",
       "4    -1.453083         0.000376     0.773831\n",
       "...        ...              ...          ...\n",
       "2622 -0.863592         2.037220     0.773831\n",
       "2623 -0.509897        -0.490631    -1.202636\n",
       "2624  0.551187         0.000376    -0.543814\n",
       "2625  0.197492        -0.490631     1.432653\n",
       "2626 -0.038305         2.037220     0.115009\n",
       "\n",
       "[2627 rows x 3 columns]"
      ]
     },
     "execution_count": 29,
     "metadata": {},
     "output_type": "execute_result"
    }
   ],
   "source": [
    "df_copy2[['Age', 'Work_Experience', 'Family_Size']]"
   ]
  },
  {
   "cell_type": "markdown",
   "id": "b66c62b5-7229-4405-aee0-9567e31281ef",
   "metadata": {},
   "source": [
    "### Mengganti Tipe Data Attribut Family_Size (Float) dengan Tipe Data Boolean Menggunakan *One Hot Encoding*"
   ]
  },
  {
   "cell_type": "code",
   "execution_count": 30,
   "id": "726b9233-7400-4579-b7f6-ce670431fe7c",
   "metadata": {},
   "outputs": [
    {
     "data": {
      "text/plain": [
       "2.000000    768\n",
       "1.000000    512\n",
       "3.000000    455\n",
       "4.000000    444\n",
       "5.000000    200\n",
       "2.826656    113\n",
       "6.000000     78\n",
       "7.000000     26\n",
       "9.000000     16\n",
       "8.000000     15\n",
       "Name: Family_Size, dtype: int64"
      ]
     },
     "execution_count": 30,
     "metadata": {},
     "output_type": "execute_result"
    }
   ],
   "source": [
    "df.Family_Size.value_counts()"
   ]
  },
  {
   "cell_type": "code",
   "execution_count": 36,
   "id": "ba7e8db8-498b-459c-8d1b-6bc44cf98539",
   "metadata": {},
   "outputs": [],
   "source": [
    "# Mengubah tipe data attribut menjadi string terlebih dahulu\n",
    "df['Family_Size'] = df['Family_Size'].astype(str)\n",
    "# Melakukan one hot encoding pada attribut Family_Size\n",
    "FS_enc = pd.get_dummies(df[[\"Family_Size\"]])\n",
    "df = df.join(FS_enc)"
   ]
  },
  {
   "cell_type": "code",
   "execution_count": 41,
   "id": "9d213129-e459-40fb-8899-fe335ea07f0e",
   "metadata": {},
   "outputs": [
    {
     "data": {
      "text/html": [
       "<div>\n",
       "<style scoped>\n",
       "    .dataframe tbody tr th:only-of-type {\n",
       "        vertical-align: middle;\n",
       "    }\n",
       "\n",
       "    .dataframe tbody tr th {\n",
       "        vertical-align: top;\n",
       "    }\n",
       "\n",
       "    .dataframe thead th {\n",
       "        text-align: right;\n",
       "    }\n",
       "</style>\n",
       "<table border=\"1\" class=\"dataframe\">\n",
       "  <thead>\n",
       "    <tr style=\"text-align: right;\">\n",
       "      <th></th>\n",
       "      <th>ID</th>\n",
       "      <th>Gender</th>\n",
       "      <th>Ever_Married</th>\n",
       "      <th>Age</th>\n",
       "      <th>Graduated</th>\n",
       "      <th>Profession</th>\n",
       "      <th>Work_Experience</th>\n",
       "      <th>Spending_Score</th>\n",
       "      <th>Family_Size</th>\n",
       "      <th>Var_1</th>\n",
       "      <th>...</th>\n",
       "      <th>Family_Size_1.0</th>\n",
       "      <th>Family_Size_2.0</th>\n",
       "      <th>Family_Size_2.8266560888536296</th>\n",
       "      <th>Family_Size_3.0</th>\n",
       "      <th>Family_Size_4.0</th>\n",
       "      <th>Family_Size_5.0</th>\n",
       "      <th>Family_Size_6.0</th>\n",
       "      <th>Family_Size_7.0</th>\n",
       "      <th>Family_Size_8.0</th>\n",
       "      <th>Family_Size_9.0</th>\n",
       "    </tr>\n",
       "  </thead>\n",
       "  <tbody>\n",
       "    <tr>\n",
       "      <th>0</th>\n",
       "      <td>458989</td>\n",
       "      <td>Female</td>\n",
       "      <td>Yes</td>\n",
       "      <td>36</td>\n",
       "      <td>Yes</td>\n",
       "      <td>Engineer</td>\n",
       "      <td>0.000000</td>\n",
       "      <td>Low</td>\n",
       "      <td>1.0</td>\n",
       "      <td>Cat_6</td>\n",
       "      <td>...</td>\n",
       "      <td>1</td>\n",
       "      <td>0</td>\n",
       "      <td>0</td>\n",
       "      <td>0</td>\n",
       "      <td>0</td>\n",
       "      <td>0</td>\n",
       "      <td>0</td>\n",
       "      <td>0</td>\n",
       "      <td>0</td>\n",
       "      <td>0</td>\n",
       "    </tr>\n",
       "    <tr>\n",
       "      <th>1</th>\n",
       "      <td>458994</td>\n",
       "      <td>Male</td>\n",
       "      <td>Yes</td>\n",
       "      <td>37</td>\n",
       "      <td>Yes</td>\n",
       "      <td>Healthcare</td>\n",
       "      <td>8.000000</td>\n",
       "      <td>Average</td>\n",
       "      <td>4.0</td>\n",
       "      <td>Cat_6</td>\n",
       "      <td>...</td>\n",
       "      <td>0</td>\n",
       "      <td>0</td>\n",
       "      <td>0</td>\n",
       "      <td>0</td>\n",
       "      <td>1</td>\n",
       "      <td>0</td>\n",
       "      <td>0</td>\n",
       "      <td>0</td>\n",
       "      <td>0</td>\n",
       "      <td>0</td>\n",
       "    </tr>\n",
       "    <tr>\n",
       "      <th>2</th>\n",
       "      <td>458996</td>\n",
       "      <td>Female</td>\n",
       "      <td>Yes</td>\n",
       "      <td>69</td>\n",
       "      <td>No</td>\n",
       "      <td>Artist</td>\n",
       "      <td>0.000000</td>\n",
       "      <td>Low</td>\n",
       "      <td>1.0</td>\n",
       "      <td>Cat_6</td>\n",
       "      <td>...</td>\n",
       "      <td>1</td>\n",
       "      <td>0</td>\n",
       "      <td>0</td>\n",
       "      <td>0</td>\n",
       "      <td>0</td>\n",
       "      <td>0</td>\n",
       "      <td>0</td>\n",
       "      <td>0</td>\n",
       "      <td>0</td>\n",
       "      <td>0</td>\n",
       "    </tr>\n",
       "    <tr>\n",
       "      <th>3</th>\n",
       "      <td>459000</td>\n",
       "      <td>Male</td>\n",
       "      <td>Yes</td>\n",
       "      <td>59</td>\n",
       "      <td>No</td>\n",
       "      <td>Executive</td>\n",
       "      <td>11.000000</td>\n",
       "      <td>High</td>\n",
       "      <td>2.0</td>\n",
       "      <td>Cat_6</td>\n",
       "      <td>...</td>\n",
       "      <td>0</td>\n",
       "      <td>1</td>\n",
       "      <td>0</td>\n",
       "      <td>0</td>\n",
       "      <td>0</td>\n",
       "      <td>0</td>\n",
       "      <td>0</td>\n",
       "      <td>0</td>\n",
       "      <td>0</td>\n",
       "      <td>0</td>\n",
       "    </tr>\n",
       "    <tr>\n",
       "      <th>4</th>\n",
       "      <td>459001</td>\n",
       "      <td>Female</td>\n",
       "      <td>No</td>\n",
       "      <td>19</td>\n",
       "      <td>No</td>\n",
       "      <td>Marketing</td>\n",
       "      <td>2.553911</td>\n",
       "      <td>Low</td>\n",
       "      <td>4.0</td>\n",
       "      <td>Cat_6</td>\n",
       "      <td>...</td>\n",
       "      <td>0</td>\n",
       "      <td>0</td>\n",
       "      <td>0</td>\n",
       "      <td>0</td>\n",
       "      <td>1</td>\n",
       "      <td>0</td>\n",
       "      <td>0</td>\n",
       "      <td>0</td>\n",
       "      <td>0</td>\n",
       "      <td>0</td>\n",
       "    </tr>\n",
       "  </tbody>\n",
       "</table>\n",
       "<p>5 rows × 21 columns</p>\n",
       "</div>"
      ],
      "text/plain": [
       "       ID  Gender Ever_Married  Age Graduated  Profession  Work_Experience  \\\n",
       "0  458989  Female          Yes   36       Yes    Engineer         0.000000   \n",
       "1  458994    Male          Yes   37       Yes  Healthcare         8.000000   \n",
       "2  458996  Female          Yes   69        No      Artist         0.000000   \n",
       "3  459000    Male          Yes   59        No   Executive        11.000000   \n",
       "4  459001  Female           No   19        No   Marketing         2.553911   \n",
       "\n",
       "  Spending_Score Family_Size  Var_1  ... Family_Size_1.0  Family_Size_2.0  \\\n",
       "0            Low         1.0  Cat_6  ...               1                0   \n",
       "1        Average         4.0  Cat_6  ...               0                0   \n",
       "2            Low         1.0  Cat_6  ...               1                0   \n",
       "3           High         2.0  Cat_6  ...               0                1   \n",
       "4            Low         4.0  Cat_6  ...               0                0   \n",
       "\n",
       "   Family_Size_2.8266560888536296  Family_Size_3.0  Family_Size_4.0  \\\n",
       "0                               0                0                0   \n",
       "1                               0                0                1   \n",
       "2                               0                0                0   \n",
       "3                               0                0                0   \n",
       "4                               0                0                1   \n",
       "\n",
       "   Family_Size_5.0  Family_Size_6.0  Family_Size_7.0  Family_Size_8.0  \\\n",
       "0                0                0                0                0   \n",
       "1                0                0                0                0   \n",
       "2                0                0                0                0   \n",
       "3                0                0                0                0   \n",
       "4                0                0                0                0   \n",
       "\n",
       "   Family_Size_9.0  \n",
       "0                0  \n",
       "1                0  \n",
       "2                0  \n",
       "3                0  \n",
       "4                0  \n",
       "\n",
       "[5 rows x 21 columns]"
      ]
     },
     "execution_count": 41,
     "metadata": {},
     "output_type": "execute_result"
    }
   ],
   "source": [
    "df.head()"
   ]
  },
  {
   "cell_type": "code",
   "execution_count": null,
   "id": "c957b40d-c678-4550-a14e-de12a85a7d22",
   "metadata": {},
   "outputs": [],
   "source": []
  }
 ],
 "metadata": {
  "kernelspec": {
   "display_name": "Zahra_063",
   "language": "python",
   "name": "zahra_063"
  },
  "language_info": {
   "codemirror_mode": {
    "name": "ipython",
    "version": 3
   },
   "file_extension": ".py",
   "mimetype": "text/x-python",
   "name": "python",
   "nbconvert_exporter": "python",
   "pygments_lexer": "ipython3",
   "version": "3.10.7"
  }
 },
 "nbformat": 4,
 "nbformat_minor": 5
}
